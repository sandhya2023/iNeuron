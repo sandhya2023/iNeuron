{
  "cells": [
    {
      "cell_type": "markdown",
      "metadata": {
        "id": "view-in-github",
        "colab_type": "text"
      },
      "source": [
        "<a href=\"https://colab.research.google.com/github/sandhya2023/iNeuron/blob/main/Ass11_program_python.ipynb\" target=\"_parent\"><img src=\"https://colab.research.google.com/assets/colab-badge.svg\" alt=\"Open In Colab\"/></a>"
      ]
    },
    {
      "cell_type": "markdown",
      "id": "e9523fbb",
      "metadata": {
        "id": "e9523fbb"
      },
      "source": [
        "# Assignment 11 Solutions"
      ]
    },
    {
      "cell_type": "markdown",
      "id": "267b6b8f",
      "metadata": {
        "id": "267b6b8f"
      },
      "source": [
        "#### 1. Write a Python program to find words which are greater than given length k ?"
      ]
    },
    {
      "cell_type": "code",
      "execution_count": null,
      "id": "d3ec10f6",
      "metadata": {
        "id": "d3ec10f6",
        "outputId": "f5b19190-214e-4f21-8f83-f19b790f8216"
      },
      "outputs": [
        {
          "name": "stdout",
          "output_type": "stream",
          "text": [
            "Enter the string: INeuron Full Stack Data Science Course is Awesome\n",
            "Enter the length of the string: 4\n",
            "INeuron,Stack,Science,Course,Awesome\n"
          ]
        }
      ],
      "source": [
        "def checkLengthOfString():\n",
        "    in_string = input(\"Enter the string: \")\n",
        "    in_length = int(input('Enter the length of the string: '))\n",
        "    out_string = []\n",
        "    for string in in_string.split(\" \"):\n",
        "        if len(string) > in_length:\n",
        "            out_string.append(string)\n",
        "    print(','.join(out_string))\n",
        "\n",
        "checkLengthOfString()"
      ]
    },
    {
      "cell_type": "markdown",
      "id": "3711485d",
      "metadata": {
        "id": "3711485d"
      },
      "source": [
        "#### 2. Write a Python program for removing i-th character from a string ?"
      ]
    },
    {
      "cell_type": "code",
      "execution_count": null,
      "id": "f7fccd01",
      "metadata": {
        "id": "f7fccd01",
        "outputId": "1b4f3055-835e-4432-f1a0-acd86af44a8c"
      },
      "outputs": [
        {
          "name": "stdout",
          "output_type": "stream",
          "text": [
            "Enter the String: ineuron\n",
            "Enter the ith Character: 2\n",
            "inuron\n"
          ]
        }
      ],
      "source": [
        "def removeCharacter():\n",
        "    in_string = input(\"Enter the String: \")\n",
        "    in_char_num = int(input(\"Enter the ith Character: \"))\n",
        "    out_string = ''\n",
        "    for ele in range(len(in_string)):\n",
        "        if ele != in_char_num:\n",
        "            out_string = out_string + in_string[ele]\n",
        "    print(out_string)\n",
        "    \n",
        "removeCharacter()"
      ]
    },
    {
      "cell_type": "markdown",
      "id": "845ba790",
      "metadata": {
        "id": "845ba790"
      },
      "source": [
        "#### 3. Write a Python program to split and join a string ?"
      ]
    },
    {
      "cell_type": "code",
      "execution_count": null,
      "id": "fd82df54",
      "metadata": {
        "id": "fd82df54",
        "outputId": "14008d21-01e1-47bf-a141-ac99977b89d3"
      },
      "outputs": [
        {
          "name": "stdout",
          "output_type": "stream",
          "text": [
            "Enter the string: Ineuron Full Stack Data Science Course\n",
            "Split String: ['Ineuron', 'Full', 'Stack', 'Data', 'Science', 'Course']\n",
            "Join String: Ineuron Full Stack Data Science Course\n"
          ]
        }
      ],
      "source": [
        "def splitJoinString():\n",
        "    in_string = input('Enter the string: ')\n",
        "    print(f\"Split String: {in_string.split(' ')}\")\n",
        "    print(f\"Join String: {' '.join(in_string.split(' '))}\")\n",
        "\n",
        "splitJoinString()"
      ]
    },
    {
      "cell_type": "markdown",
      "id": "ee642cdf",
      "metadata": {
        "id": "ee642cdf"
      },
      "source": [
        "#### 4. Write a Python to check if a given string is binary string or not ?"
      ]
    },
    {
      "cell_type": "code",
      "execution_count": null,
      "id": "6d04b29e",
      "metadata": {
        "id": "6d04b29e",
        "outputId": "0ca073ed-d3f7-447a-b7f3-8fe0fbfc6f4f"
      },
      "outputs": [
        {
          "name": "stdout",
          "output_type": "stream",
          "text": [
            "Enter the string: 1234\n",
            "1234 is not a binart string\n",
            "Enter the string: 1010101\n",
            "1010101 is a binary string\n"
          ]
        }
      ],
      "source": [
        "def checkBinary():\n",
        "    in_string = input('Enter the string: ')\n",
        "    stun = 0\n",
        "    for ele in in_string:\n",
        "        if ele in ['0','1']:\n",
        "            stun = 1\n",
        "            continue\n",
        "        else:\n",
        "            stun = 0\n",
        "            break\n",
        "    statement = 'is a binary string' if stun == 1 else 'is not a binart string' \n",
        "    print(f'{in_string} {statement}')\n",
        "\n",
        "checkBinary()\n",
        "checkBinary()"
      ]
    },
    {
      "cell_type": "markdown",
      "id": "d22e2622",
      "metadata": {
        "id": "d22e2622"
      },
      "source": [
        "#### 5. Write a Python program to find uncommon words from two Strings ?"
      ]
    },
    {
      "cell_type": "code",
      "execution_count": null,
      "id": "be223e06",
      "metadata": {
        "id": "be223e06",
        "outputId": "09eeab98-1101-493d-f238-e4d4ae72eb7f"
      },
      "outputs": [
        {
          "name": "stdout",
          "output_type": "stream",
          "text": [
            "Enter the String 1: Supervised Learning\n",
            "Enter the String 2: Unsupervised Learning\n",
            "{'Unsupervised', 'Supervised'}\n"
          ]
        }
      ],
      "source": [
        "def unCommonWords():\n",
        "    in_string_1 = set(input(\"Enter the String 1: \").split(' '))\n",
        "    in_string_2 = set(input(\"Enter the String 2: \").split(' '))\n",
        "    out_string = (in_string_1.union(in_string_2)).difference(in_string_1.intersection(in_string_2))\n",
        "    print(out_string)\n",
        "\n",
        "unCommonWords()"
      ]
    },
    {
      "cell_type": "markdown",
      "id": "a077bda5",
      "metadata": {
        "id": "a077bda5"
      },
      "source": [
        "#### 6. Write a Python to find all duplicate characters in string ?"
      ]
    },
    {
      "cell_type": "code",
      "execution_count": null,
      "id": "6116a494",
      "metadata": {
        "id": "6116a494",
        "outputId": "5184db47-d995-44d6-e078-e2dfe8ab8eef"
      },
      "outputs": [
        {
          "name": "stdout",
          "output_type": "stream",
          "text": [
            "Enter the string: full stack data science course\n",
            "Duplicate characters are: ['s', 't', 'c', 'l', 'a', 'e', ' ', 'u']\n"
          ]
        }
      ],
      "source": [
        "def duplicateChars():\n",
        "    in_string = input('Enter the string: ')\n",
        "    non_duplicate_list = []\n",
        "    duplicate_list = []\n",
        "    for ele in in_string:\n",
        "        if ele not in non_duplicate_list:\n",
        "            non_duplicate_list.append(ele)\n",
        "        else:\n",
        "            duplicate_list.append(ele)\n",
        "    print(f'Duplicate characters are: {list(set(duplicate_list))}')\n",
        "        \n",
        "duplicateChars()"
      ]
    },
    {
      "cell_type": "markdown",
      "id": "e14912b1",
      "metadata": {
        "id": "e14912b1"
      },
      "source": [
        "#### 7. Write a Python Program to check if a string contains any special character?"
      ]
    },
    {
      "cell_type": "code",
      "execution_count": null,
      "id": "b51b221d",
      "metadata": {
        "id": "b51b221d",
        "outputId": "00967240-6b1c-4224-f63c-95210ca6a03c"
      },
      "outputs": [
        {
          "name": "stdout",
          "output_type": "stream",
          "text": [
            "Enter the string: DS @ Ineuron by Sudhanshu & krish\n",
            "There are 2 Speical Characters in DS @ Ineuron by Sudhanshu & krish which are ['@', '&']\n",
            "Enter the string: Full Metal Alchemist : Brotherhood\n",
            "There are 1 Speical Characters in Full Metal Alchemist : Brotherhood which are [':']\n"
          ]
        }
      ],
      "source": [
        "def checkSpecialChar():\n",
        "    spl_chars = '[@_!#$%^&*()<>?/\\|}{~:]'\n",
        "    in_num = input('Enter the string: ')\n",
        "    count = 0\n",
        "    char_list = []\n",
        "    for ele in in_num:\n",
        "        if ele in spl_chars:\n",
        "            char_list.append(ele)\n",
        "            count = count+1\n",
        "    print(f'There are {count} Speical Characters in {in_num} which are {char_list}')\n",
        "            \n",
        "        \n",
        "checkSpecialChar()\n",
        "checkSpecialChar()"
      ]
    }
  ],
  "metadata": {
    "kernelspec": {
      "display_name": "Python 3",
      "language": "python",
      "name": "python3"
    },
    "language_info": {
      "codemirror_mode": {
        "name": "ipython",
        "version": 3
      },
      "file_extension": ".py",
      "mimetype": "text/x-python",
      "name": "python",
      "nbconvert_exporter": "python",
      "pygments_lexer": "ipython3",
      "version": "3.8.8"
    },
    "colab": {
      "provenance": [],
      "include_colab_link": true
    }
  },
  "nbformat": 4,
  "nbformat_minor": 5
}