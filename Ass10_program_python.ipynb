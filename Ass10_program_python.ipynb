{
  "cells": [
    {
      "cell_type": "markdown",
      "metadata": {
        "id": "view-in-github",
        "colab_type": "text"
      },
      "source": [
        "<a href=\"https://colab.research.google.com/github/sandhya2023/iNeuron/blob/main/Ass10_program_python.ipynb\" target=\"_parent\"><img src=\"https://colab.research.google.com/assets/colab-badge.svg\" alt=\"Open In Colab\"/></a>"
      ]
    },
    {
      "cell_type": "markdown",
      "id": "0753e292",
      "metadata": {
        "id": "0753e292"
      },
      "source": [
        "# Assignment 10 Solutions"
      ]
    },
    {
      "cell_type": "markdown",
      "id": "d6f96d38",
      "metadata": {
        "id": "d6f96d38"
      },
      "source": [
        "#### 1.Write a Python Program to find sum of elements in a list ?"
      ]
    },
    {
      "cell_type": "code",
      "execution_count": null,
      "id": "1fbea5b2",
      "metadata": {
        "id": "1fbea5b2",
        "outputId": "21d85e67-ae47-4667-f594-ad5f1696cb53"
      },
      "outputs": [
        {
          "name": "stdout",
          "output_type": "stream",
          "text": [
            "Enter the No of Entries in a List: 5\n",
            "Enter a element: 1\n",
            "Enter a element: 2\n",
            "Enter a element: 3\n",
            "Enter a element: 4\n",
            "Enter a element: 5\n",
            "Sum of Elements: 15\n"
          ]
        }
      ],
      "source": [
        "def sumofList():\n",
        "    in_ele = int(input('Enter the No of Entries in a List: '))\n",
        "    in_list = []\n",
        "    for itr in range(in_ele):\n",
        "        in_list.append(int(input('Enter a element: ')))\n",
        "    print(f'Sum of Elements: {sum(in_list)}')\n",
        "\n",
        "sumofList()"
      ]
    },
    {
      "cell_type": "markdown",
      "id": "35ff9c7c",
      "metadata": {
        "id": "35ff9c7c"
      },
      "source": [
        "#### 2.Write a Python Program to multiply all numbers in the list ?"
      ]
    },
    {
      "cell_type": "code",
      "execution_count": null,
      "id": "d77e77e6",
      "metadata": {
        "id": "d77e77e6",
        "outputId": "7cf51e24-2106-421b-a1e9-93ea0e04ce6c"
      },
      "outputs": [
        {
          "name": "stdout",
          "output_type": "stream",
          "text": [
            "Enter the No of Entries in a List: 5\n",
            "Enter a element: 1\n",
            "Enter a element: 2\n",
            "Enter a element: 3\n",
            "Enter a element: 4\n",
            "Enter a element: 5\n",
            "120\n"
          ]
        }
      ],
      "source": [
        "def mulofList():\n",
        "    in_ele = int(input('Enter the No of Entries in a List: '))\n",
        "    in_list = []\n",
        "    mul = 1\n",
        "    for itr in range(in_ele):\n",
        "        in_list.append(int(input('Enter a element: ')))\n",
        "    for ele in in_list:\n",
        "        mul = mul * ele\n",
        "    print(mul)\n",
        "\n",
        "mulofList()"
      ]
    },
    {
      "cell_type": "markdown",
      "id": "0561967b",
      "metadata": {
        "id": "0561967b"
      },
      "source": [
        "#### 3.Write a Python Program to find smallest number in the list ?"
      ]
    },
    {
      "cell_type": "code",
      "execution_count": null,
      "id": "3e9863eb",
      "metadata": {
        "id": "3e9863eb",
        "outputId": "9ccaa882-b643-4852-a43a-47301ffa7567"
      },
      "outputs": [
        {
          "name": "stdout",
          "output_type": "stream",
          "text": [
            "Enter the No of elements in a list: 5\n",
            "Enter a Element: 34\n",
            "Enter a Element: 56\n",
            "Enter a Element: 67\n",
            "Enter a Element: 87\n",
            "Enter a Element: 12\n",
            "The Smallest Element in [34, 56, 67, 87, 12] is 12\n"
          ]
        }
      ],
      "source": [
        "def smallEleInList():\n",
        "    in_ele = int(input('Enter the No of elements in a list: '))\n",
        "    in_list = []\n",
        "    for ele in range(in_ele):\n",
        "        in_list.append(int(input('Enter a Element: ')))\n",
        "    print(f'The Smallest Element in {in_list} is {sorted(in_list)[0]}')\n",
        "smallEleInList()"
      ]
    },
    {
      "cell_type": "markdown",
      "id": "0684d2e6",
      "metadata": {
        "id": "0684d2e6"
      },
      "source": [
        "#### 4.Write a Python Program to find largest number in the list ?"
      ]
    },
    {
      "cell_type": "code",
      "execution_count": null,
      "id": "c1984a1c",
      "metadata": {
        "id": "c1984a1c",
        "outputId": "6b1a59f3-78bf-493e-ddb3-11280652718b"
      },
      "outputs": [
        {
          "name": "stdout",
          "output_type": "stream",
          "text": [
            "Enter the No of elements in a list: 12\n",
            "Enter a Element: 10\n",
            "Enter a Element: 98\n",
            "Enter a Element: 12\n",
            "Enter a Element: 14\n",
            "Enter a Element: 15\n",
            "Enter a Element: 65\n",
            "Enter a Element: 76\n",
            "Enter a Element: 87\n",
            "Enter a Element: 34\n",
            "Enter a Element: 56\n",
            "Enter a Element: 87\n",
            "Enter a Element: 34\n",
            "The Largest Element in [10, 98, 12, 14, 15, 65, 76, 87, 34, 56, 87, 34] is 98\n"
          ]
        }
      ],
      "source": [
        "def largestEleInList():\n",
        "    in_ele = int(input('Enter the No of elements in a list: '))\n",
        "    in_list = []\n",
        "    for ele in range(in_ele):\n",
        "        in_list.append(int(input('Enter a Element: ')))\n",
        "    print(f'The Largest Element in {in_list} is {sorted(in_list, reverse=True)[0]}')\n",
        "\n",
        "largestEleInList()"
      ]
    },
    {
      "cell_type": "markdown",
      "id": "ef882ac4",
      "metadata": {
        "id": "ef882ac4"
      },
      "source": [
        "#### 5.Write a Python Program to find second largest number in the list ?"
      ]
    },
    {
      "cell_type": "code",
      "execution_count": null,
      "id": "ca2c5e29",
      "metadata": {
        "id": "ca2c5e29",
        "outputId": "3e370135-2870-4b9a-ebf1-629570b6c102"
      },
      "outputs": [
        {
          "name": "stdout",
          "output_type": "stream",
          "text": [
            "Enter the No of elements in a list: 5\n",
            "Enter a Element: 12\n",
            "Enter a Element: 13\n",
            "Enter a Element: 14\n",
            "Enter a Element: 15\n",
            "Enter a Element: 16\n",
            "The Second Largest Element in [12, 13, 14, 15, 16] is 15\n"
          ]
        }
      ],
      "source": [
        "def secondLargestEleInList():\n",
        "    in_ele = int(input('Enter the No of elements in a list: '))\n",
        "    in_list = []\n",
        "    for ele in range(in_ele):\n",
        "        in_list.append(int(input('Enter a Element: ')))\n",
        "    print(f'The Second Largest Element in {in_list} is {sorted(in_list, reverse=True)[1]}')\n",
        "\n",
        "secondLargestEleInList()"
      ]
    },
    {
      "cell_type": "markdown",
      "id": "ee185d52",
      "metadata": {
        "id": "ee185d52"
      },
      "source": [
        "#### 6.Write a Python Program to find N largest elements in the list ?"
      ]
    },
    {
      "cell_type": "code",
      "execution_count": null,
      "id": "e2c518fa",
      "metadata": {
        "id": "e2c518fa",
        "outputId": "ac03ae10-a578-4b8d-cec3-10d818e44c30"
      },
      "outputs": [
        {
          "name": "stdout",
          "output_type": "stream",
          "text": [
            "Enter the No of elements in a list: 10\n",
            "Enter a Element: 1\n",
            "Enter a Element: 2\n",
            "Enter a Element: 3\n",
            "Enter a Element: 4\n",
            "Enter a Element: 5\n",
            "Enter a Element: 6\n",
            "Enter a Element: 7\n",
            "Enter a Element: 8\n",
            "Enter a Element: 9\n",
            "Enter a Element: 10\n",
            "The 4 Largest Element in [1, 2, 3, 4, 5, 6, 7, 8, 9, 10] is [10, 9, 8, 7]\n"
          ]
        }
      ],
      "source": [
        "def nLargestEleInList(k):\n",
        "    in_ele = int(input('Enter the No of elements in a list: '))\n",
        "    in_list = []\n",
        "    for ele in range(in_ele):\n",
        "        in_list.append(int(input('Enter a Element: ')))\n",
        "    print(f'The {k} Largest Element in {in_list} is {sorted(in_list, reverse=True)[0:k]}')\n",
        "\n",
        "nLargestEleInList(4)"
      ]
    },
    {
      "cell_type": "markdown",
      "id": "7f5a2b91",
      "metadata": {
        "id": "7f5a2b91"
      },
      "source": [
        "#### 7.Write a Python Program to find even numbers in the list ?"
      ]
    },
    {
      "cell_type": "code",
      "execution_count": null,
      "id": "e9b0d19a",
      "metadata": {
        "id": "e9b0d19a",
        "outputId": "3f65e616-ea65-4b41-dad7-e73d439a95e4"
      },
      "outputs": [
        {
          "name": "stdout",
          "output_type": "stream",
          "text": [
            "Enter the No of elements in a list: 6\n",
            "Enter a Element: 1\n",
            "Enter a Element: 2\n",
            "Enter a Element: 3\n",
            "Enter a Element: 4\n",
            "Enter a Element: 5\n",
            "Enter a Element: 6\n",
            "The Even Elements in [1, 2, 3, 4, 5, 6] are [2, 4, 6]\n"
          ]
        }
      ],
      "source": [
        "def evenNoInList():\n",
        "    in_ele = int(input('Enter the No of elements in a list: '))\n",
        "    in_list = []\n",
        "    even_list = []\n",
        "    for ele in range(in_ele):\n",
        "        in_list.append(int(input('Enter a Element: ')))\n",
        "    for ele in in_list:\n",
        "        if ele%2 == 0:\n",
        "            even_list.append(ele)\n",
        "    print(f'The Even Elements in {in_list} are {even_list}')\n",
        "\n",
        "evenNoInList()"
      ]
    },
    {
      "cell_type": "markdown",
      "id": "a5d3f862",
      "metadata": {
        "id": "a5d3f862"
      },
      "source": [
        "#### 8.Write a Python Program to find odd numbers in the list ?"
      ]
    },
    {
      "cell_type": "code",
      "execution_count": null,
      "id": "101d0718",
      "metadata": {
        "id": "101d0718",
        "outputId": "99aafe8e-dbab-4181-d483-2bbd79b4f7a9"
      },
      "outputs": [
        {
          "name": "stdout",
          "output_type": "stream",
          "text": [
            "Enter the No of elements in a list: 6\n",
            "Enter a Element: 1\n",
            "Enter a Element: 2\n",
            "Enter a Element: 3\n",
            "Enter a Element: 4\n",
            "Enter a Element: 5\n",
            "Enter a Element: 6\n",
            "The Even Elements in [1, 2, 3, 4, 5, 6] are [1, 3, 5]\n"
          ]
        }
      ],
      "source": [
        "def oddNoInList():\n",
        "    in_ele = int(input('Enter the No of elements in a list: '))\n",
        "    in_list = []\n",
        "    odd_list = []\n",
        "    for ele in range(in_ele):\n",
        "        in_list.append(int(input('Enter a Element: ')))\n",
        "    for ele in in_list:\n",
        "        if ele%2 != 0:\n",
        "            odd_list.append(ele)\n",
        "    print(f'The Even Elements in {in_list} are {odd_list}')\n",
        "\n",
        "oddNoInList()"
      ]
    },
    {
      "cell_type": "markdown",
      "id": "f97fa7ea",
      "metadata": {
        "id": "f97fa7ea"
      },
      "source": [
        "#### 9.Write a Python Program to remove empty list from list ?"
      ]
    },
    {
      "cell_type": "code",
      "execution_count": null,
      "id": "193a2ef1",
      "metadata": {
        "id": "193a2ef1",
        "outputId": "c1ef67ca-0192-4d38-c86a-a750ddbbb83f"
      },
      "outputs": [
        {
          "name": "stdout",
          "output_type": "stream",
          "text": [
            "Enter all elements of the list: [1,2,3,4,5,[],6,7,8,9,0]\n",
            "There is an Empty list in [1, 2, 3, 4, 5, [], 6, 7, 8, 9, 0] at Position 5\n",
            "The List after removing [] is [1, 2, 3, 4, 5, 6, 7, 8, 9, 0]\n"
          ]
        }
      ],
      "source": [
        "def checkEmptyList():\n",
        "    in_list = eval(input('Enter all elements of the list: '))\n",
        "    if [] in in_list:\n",
        "        print(f'There is an Empty list in {in_list} at Position {in_list.index([])}')\n",
        "        in_list.remove([])\n",
        "        print(f'The List after removing [] is {in_list}')\n",
        "    else:\n",
        "        print(f'There is no [] List in the list {in_list}')\n",
        "        \n",
        "checkEmptyList()"
      ]
    },
    {
      "cell_type": "markdown",
      "id": "1a5b1f91",
      "metadata": {
        "id": "1a5b1f91"
      },
      "source": [
        "#### 10.Write a Python Program to Cloning or Copying a list ?"
      ]
    },
    {
      "cell_type": "code",
      "execution_count": null,
      "id": "55882ca5",
      "metadata": {
        "id": "55882ca5",
        "outputId": "68e8fcc0-287a-442f-871f-0e77e0477367"
      },
      "outputs": [
        {
          "name": "stdout",
          "output_type": "stream",
          "text": [
            "Enter a list[1,2,3,4,5,6,7,8,9,0]\n",
            "[1, 2, 3, 4, 5, 6, 7, 8, 9, 0] 1804715913280\n",
            "[1, 2, 3, 4, 5, 6, 7, 8, 9, 0] 1804715963072\n"
          ]
        }
      ],
      "source": [
        "import copy\n",
        "\n",
        "def cloneList():\n",
        "    in_list = eval(input('Enter a list'))\n",
        "    print(in_list, id(in_list))\n",
        "    cloned_list = in_list.copy()\n",
        "    print(cloned_list, id(cloned_list))\n",
        "\n",
        "cloneList()"
      ]
    },
    {
      "cell_type": "markdown",
      "id": "37e5e6bd",
      "metadata": {
        "id": "37e5e6bd"
      },
      "source": [
        "#### 11.Write a Python Program to count occurences of an element in a list ?"
      ]
    },
    {
      "cell_type": "code",
      "execution_count": null,
      "id": "8a5e7b52",
      "metadata": {
        "id": "8a5e7b52",
        "outputId": "eee4a1f9-8680-4766-ae2e-0dced8f33417"
      },
      "outputs": [
        {
          "name": "stdout",
          "output_type": "stream",
          "text": [
            "Enter the elements of the list: [1,2,3,1,2,3,1,2,3,4,5,6,4,5,6]\n",
            "Enter the element to find: 6\n",
            "There are 2 occurences of 6 in [1, 2, 3, 1, 2, 3, 1, 2, 3, 4, 5, 6, 4, 5, 6]\n"
          ]
        }
      ],
      "source": [
        "def checkOccurence():\n",
        "    in_list = eval(input('Enter the elements of the list: '))\n",
        "    in_num = eval(input('Enter the element to find: '))\n",
        "    count = 0\n",
        "    if in_num in in_list:\n",
        "        for ele in in_list:\n",
        "            if ele == in_num:\n",
        "                count = count+1\n",
        "    print(f'There are {count} occurences of {in_num} in {in_list}')\n",
        "    \n",
        "checkOccurence()"
      ]
    }
  ],
  "metadata": {
    "kernelspec": {
      "display_name": "Python 3",
      "language": "python",
      "name": "python3"
    },
    "language_info": {
      "codemirror_mode": {
        "name": "ipython",
        "version": 3
      },
      "file_extension": ".py",
      "mimetype": "text/x-python",
      "name": "python",
      "nbconvert_exporter": "python",
      "pygments_lexer": "ipython3",
      "version": "3.8.8"
    },
    "colab": {
      "provenance": [],
      "include_colab_link": true
    }
  },
  "nbformat": 4,
  "nbformat_minor": 5
}