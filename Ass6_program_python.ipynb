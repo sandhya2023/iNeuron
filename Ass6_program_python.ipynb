{
  "cells": [
    {
      "cell_type": "markdown",
      "metadata": {
        "id": "view-in-github",
        "colab_type": "text"
      },
      "source": [
        "<a href=\"https://colab.research.google.com/github/sandhya2023/iNeuron/blob/main/Ass6_program_python.ipynb\" target=\"_parent\"><img src=\"https://colab.research.google.com/assets/colab-badge.svg\" alt=\"Open In Colab\"/></a>"
      ]
    },
    {
      "cell_type": "markdown",
      "id": "0a66efc2",
      "metadata": {
        "id": "0a66efc2"
      },
      "source": [
        "# Assignment 6 Solutions"
      ]
    },
    {
      "cell_type": "markdown",
      "id": "cd035ec4",
      "metadata": {
        "id": "cd035ec4"
      },
      "source": [
        "#### 1. Write a Python Program to Display Fibonacci Sequence using Recursion ?"
      ]
    },
    {
      "cell_type": "code",
      "execution_count": null,
      "id": "c6a0db1b",
      "metadata": {
        "id": "c6a0db1b",
        "outputId": "781cfbe0-12cc-4cca-be43-74c41cae6589"
      },
      "outputs": [
        {
          "name": "stdout",
          "output_type": "stream",
          "text": [
            "Enter the length of Series: 20\n",
            "0, 1, 3, 5, 8, 13, 21, 34, 55, 89, 144, 233, 377, 610, 987, 1597, 2584, 4181, 6765, 10946, 17711, 28657, "
          ]
        }
      ],
      "source": [
        "def genFibonacci(n,a,b):\n",
        "    if n == 0:\n",
        "        return 1\n",
        "    else:\n",
        "        result = a+b\n",
        "        print(result, end=', ')\n",
        "        genFibonacci(n-1,b,result)\n",
        "in_num = int(input('Enter the length of Series: '))\n",
        "print('0, 1',end=', ')\n",
        "genFibonacci(in_num,1,2)"
      ]
    },
    {
      "cell_type": "markdown",
      "id": "15b838c7",
      "metadata": {
        "id": "15b838c7"
      },
      "source": [
        "#### 2. Write a Python Program to Find Factorial of a Number using Recursion ?"
      ]
    },
    {
      "cell_type": "code",
      "execution_count": null,
      "id": "56e04b25",
      "metadata": {
        "id": "56e04b25",
        "outputId": "02e43363-5b5e-4393-ab36-b98f61ef0c01"
      },
      "outputs": [
        {
          "name": "stdout",
          "output_type": "stream",
          "text": [
            "Enter a number: 5\n",
            "The Factorial of 5 is 120\n"
          ]
        }
      ],
      "source": [
        "def factorial(num):\n",
        "    if (num < 1):\n",
        "        return 1\n",
        "    else:\n",
        "        return num*factorial(num-1)\n",
        "num = int(input('Enter a number: '))\n",
        "value = factorial(num)\n",
        "print(f'The Factorial of {num} is {value}')"
      ]
    },
    {
      "cell_type": "markdown",
      "id": "95f7ab1e",
      "metadata": {
        "id": "95f7ab1e"
      },
      "source": [
        "#### 3. Write a Python Program to Calculate your Body Mass Index ?"
      ]
    },
    {
      "cell_type": "code",
      "execution_count": null,
      "id": "8e0c3d17",
      "metadata": {
        "id": "8e0c3d17",
        "outputId": "08274e10-d5bb-4c33-a770-f3d189b6db12"
      },
      "outputs": [
        {
          "name": "stdout",
          "output_type": "stream",
          "text": [
            "Enter your Weight(kgs): 70\n",
            "Enter your Height(mts): 1.8\n",
            "Your're BMI is 21.604938271604937 and status is Healthy \n"
          ]
        }
      ],
      "source": [
        "def calculateBMI():\n",
        "    in_weight = eval(input('Enter your Weight(kgs): '))\n",
        "    in_height = eval(input('Enter your Height(mts): '))\n",
        "    calc_bmi = in_weight/pow(in_height,2)\n",
        "    if (calc_bmi < 18.5):\n",
        "        status = 'Underweight'\n",
        "    elif (calc_bmi >= 18.5 and calc_bmi < 24.9):\n",
        "        status = 'Healthy'\n",
        "    elif (calc_bmi >= 24.9 and calc_bmi < 30):\n",
        "        status = 'Overweight'\n",
        "    elif (calc_bmi >=30):\n",
        "        status = 'Suffering from Obesity'\n",
        "    print(f'Your\\'re BMI is {calc_bmi} and status is {status} ')\n",
        "calculateBMI()"
      ]
    },
    {
      "cell_type": "markdown",
      "id": "8be593fe",
      "metadata": {
        "id": "8be593fe"
      },
      "source": [
        "#### 4. Write a Python Program to Calculate the Natural Logarithm of any Number ?"
      ]
    },
    {
      "cell_type": "code",
      "execution_count": null,
      "id": "e1db8d0f",
      "metadata": {
        "id": "e1db8d0f",
        "outputId": "375148f7-0e8f-41c0-ed9c-3ae359333e0c"
      },
      "outputs": [
        {
          "name": "stdout",
          "output_type": "stream",
          "text": [
            "Enter a Number:32\n",
            "3.4657359027997265\n"
          ]
        }
      ],
      "source": [
        "import math\n",
        "def genNatLog():\n",
        "    in_num = eval(input(\"Enter a Number:\"))\n",
        "    print(math.log(in_num))\n",
        "\n",
        "genNatLog()"
      ]
    },
    {
      "cell_type": "markdown",
      "id": "5dc827ea",
      "metadata": {
        "id": "5dc827ea"
      },
      "source": [
        "#### 5. Write a Python Program for Cube sum of first n Natural Numbers ?"
      ]
    },
    {
      "cell_type": "code",
      "execution_count": null,
      "id": "70a3a203",
      "metadata": {
        "id": "70a3a203",
        "outputId": "05d25506-a775-4c38-fa33-62cce808fc9e"
      },
      "outputs": [
        {
          "name": "stdout",
          "output_type": "stream",
          "text": [
            "Enter the no of Natural Numbers: 3\n",
            "The Cube Sum of First 3 Natural Numbers is 36.0\n"
          ]
        }
      ],
      "source": [
        "def cubeOfNaturalNumbers():\n",
        "    in_num = int(input(\"Enter the no of Natural Numbers: \"))\n",
        "    result = pow(((in_num * (in_num +1))/2),2)\n",
        "    print(f'The Cube Sum of First {in_num} Natural Numbers is {result}')\n",
        "\n",
        "cubeOfNaturalNumbers()"
      ]
    }
  ],
  "metadata": {
    "kernelspec": {
      "display_name": "Python 3",
      "language": "python",
      "name": "python3"
    },
    "language_info": {
      "codemirror_mode": {
        "name": "ipython",
        "version": 3
      },
      "file_extension": ".py",
      "mimetype": "text/x-python",
      "name": "python",
      "nbconvert_exporter": "python",
      "pygments_lexer": "ipython3",
      "version": "3.8.8"
    },
    "colab": {
      "provenance": [],
      "include_colab_link": true
    }
  },
  "nbformat": 4,
  "nbformat_minor": 5
}