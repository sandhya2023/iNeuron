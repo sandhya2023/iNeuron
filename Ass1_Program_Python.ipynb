{
  "nbformat": 4,
  "nbformat_minor": 0,
  "metadata": {
    "colab": {
      "provenance": []
    },
    "kernelspec": {
      "name": "python3",
      "display_name": "Python 3"
    },
    "language_info": {
      "name": "python"
    }
  },
  "cells": [
    {
      "cell_type": "markdown",
      "source": [
        "1. Write a Python program to print &quot;Hello Python&quot;?"
      ],
      "metadata": {
        "id": "AqutpFV5NV_1"
      }
    },
    {
      "cell_type": "code",
      "source": [
        "print(\"Hello Python\")"
      ],
      "metadata": {
        "colab": {
          "base_uri": "https://localhost:8080/"
        },
        "id": "ymIVS8ZTNcel",
        "outputId": "25f5f7bc-6624-486c-c3a0-8f7f5408a554"
      },
      "execution_count": null,
      "outputs": [
        {
          "output_type": "stream",
          "name": "stdout",
          "text": [
            "Hello Python\n"
          ]
        }
      ]
    },
    {
      "cell_type": "markdown",
      "source": [
        "2. Write a Python program to do arithmetical operations addition and division.?"
      ],
      "metadata": {
        "id": "1Nb_0dZMNl8f"
      }
    },
    {
      "cell_type": "code",
      "source": [
        "a = 10\n",
        "b = 20\n",
        "sum = a+b\n",
        "quotient = b/a\n",
        "remainder = b%a\n",
        "print(sum)\n",
        "print(quotient)\n",
        "print(remainder)\n"
      ],
      "metadata": {
        "colab": {
          "base_uri": "https://localhost:8080/"
        },
        "id": "ms3Ff6sgNr_C",
        "outputId": "b1845556-ee23-4d96-a578-ba4167cf694d"
      },
      "execution_count": null,
      "outputs": [
        {
          "output_type": "stream",
          "name": "stdout",
          "text": [
            "30\n",
            "2.0\n",
            "0\n"
          ]
        }
      ]
    },
    {
      "cell_type": "markdown",
      "source": [
        "3. Write a Python program to find the area of a triangle?"
      ],
      "metadata": {
        "id": "gk-iqasvOqJZ"
      }
    },
    {
      "cell_type": "code",
      "execution_count": null,
      "metadata": {
        "colab": {
          "base_uri": "https://localhost:8080/"
        },
        "id": "ViRowW7GNQ-n",
        "outputId": "dffb9d33-eb62-45a7-9565-f15e9032b9cc"
      },
      "outputs": [
        {
          "output_type": "stream",
          "name": "stdout",
          "text": [
            "Enter the length of base:10\n",
            "Enter the length of height:5\n",
            "The Area of triangle is 25.0.\n"
          ]
        }
      ],
      "source": [
        "b = int(input(\"Enter the length of base:\"))\n",
        "h = int(input(\"Enter the length of height:\"))\n",
        "Area = (1/2)*b*h\n",
        "print(f\"The Area of triangle is {Area}.\")"
      ]
    },
    {
      "cell_type": "markdown",
      "source": [
        "4. Write a Python program to swap two variables?"
      ],
      "metadata": {
        "id": "TFFw0a1_P7Aq"
      }
    },
    {
      "cell_type": "code",
      "source": [
        "a = input(\"enter any value in a:\")\n",
        "b = input(\"enter any value in b:\")\n",
        "temp = a\n",
        "a = b\n",
        "b = temp\n",
        "print(f\"The value of a is {a}\")\n",
        "print(f\"The value of b is {b}\")\n"
      ],
      "metadata": {
        "colab": {
          "base_uri": "https://localhost:8080/"
        },
        "id": "0quHCaAKP-KL",
        "outputId": "0b412b52-d2e5-4fa9-ac06-ce6b65bf8193"
      },
      "execution_count": null,
      "outputs": [
        {
          "output_type": "stream",
          "name": "stdout",
          "text": [
            "enter any value in a:10\n",
            "enter any value in b:37\n",
            "The value of a is 37\n",
            "The value of b is 10\n"
          ]
        }
      ]
    },
    {
      "cell_type": "markdown",
      "source": [
        "5. Write a Python program to generate a random number?"
      ],
      "metadata": {
        "id": "BZkatOdURHmp"
      }
    },
    {
      "cell_type": "code",
      "source": [
        "import random\n",
        "print(random.randint(0,90))"
      ],
      "metadata": {
        "colab": {
          "base_uri": "https://localhost:8080/"
        },
        "id": "WOVAxupcRWHY",
        "outputId": "67064dff-7e91-4349-bdfd-77b1e21f0761"
      },
      "execution_count": null,
      "outputs": [
        {
          "output_type": "stream",
          "name": "stdout",
          "text": [
            "57\n"
          ]
        }
      ]
    }
  ]
}