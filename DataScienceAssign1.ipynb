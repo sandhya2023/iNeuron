{
 "cells": [
  {
   "cell_type": "markdown",
   "id": "d75222ee-3e1a-4028-b3a3-617834f57dfa",
   "metadata": {},
   "source": [
    "# **ASSIGNMENT**"
   ]
  },
  {
   "cell_type": "markdown",
   "id": "dbe23e66-4b5f-4f6f-bc84-16b766e5276b",
   "metadata": {},
   "source": [
    "**1. Write a Python program to reverse a string without using any built-in string reversal functions.**"
   ]
  },
  {
   "cell_type": "code",
   "execution_count": 1,
   "id": "b90c7004-fde4-4198-8994-a3659efdb591",
   "metadata": {},
   "outputs": [],
   "source": [
    "def reverse_str(string):\n",
    "    return string[::-1]"
   ]
  },
  {
   "cell_type": "code",
   "execution_count": 2,
   "id": "57803b8c-8c65-4b04-a1ef-4dfbb26ed3ae",
   "metadata": {},
   "outputs": [
    {
     "data": {
      "text/plain": [
       "'eulb si yks ehT'"
      ]
     },
     "execution_count": 2,
     "metadata": {},
     "output_type": "execute_result"
    }
   ],
   "source": [
    "reverse_str(\"The sky is blue\")"
   ]
  },
  {
   "cell_type": "markdown",
   "id": "8851c6eb-9de2-4025-a570-27b8200a6b3a",
   "metadata": {},
   "source": [
    "**2. Implement a function to check if a given string is a palindrome.**"
   ]
  },
  {
   "cell_type": "code",
   "execution_count": 3,
   "id": "00b599d4-ad13-41a3-abe7-60b0404ff0f5",
   "metadata": {},
   "outputs": [],
   "source": [
    "def palindrome_str(s):\n",
    "    s=s.lower()\n",
    "    i=0\n",
    "    j=len(s)-1\n",
    "    while(i<j):\n",
    "        if(s[i]==s[j]):\n",
    "            i=i+1\n",
    "            j=j-1\n",
    "        else:\n",
    "            return False\n",
    "        \n",
    "        \n",
    "    return True    "
   ]
  },
  {
   "cell_type": "code",
   "execution_count": 4,
   "id": "dfdcfa01-2b89-4904-be3c-4925f63b774c",
   "metadata": {},
   "outputs": [
    {
     "data": {
      "text/plain": [
       "True"
      ]
     },
     "execution_count": 4,
     "metadata": {},
     "output_type": "execute_result"
    }
   ],
   "source": [
    "palindrome_str(\"Level\")"
   ]
  },
  {
   "cell_type": "markdown",
   "id": "df7856b6-0b1b-46af-9b20-0aee564c34bb",
   "metadata": {},
   "source": [
    "**3. Write a program to find the largest element in a given list.**"
   ]
  },
  {
   "cell_type": "code",
   "execution_count": 5,
   "id": "fbaf31aa-a078-4e7b-a6be-42dad5142cf7",
   "metadata": {},
   "outputs": [],
   "source": [
    "## 1st approach"
   ]
  },
  {
   "cell_type": "code",
   "execution_count": 6,
   "id": "2310157c-cf21-4309-9681-2354f5391587",
   "metadata": {},
   "outputs": [],
   "source": [
    "def largest_element(lst):\n",
    "    return max(lst)"
   ]
  },
  {
   "cell_type": "code",
   "execution_count": 7,
   "id": "274f2202-4a8f-44fa-9175-6111c73cf9e8",
   "metadata": {},
   "outputs": [
    {
     "data": {
      "text/plain": [
       "8"
      ]
     },
     "execution_count": 7,
     "metadata": {},
     "output_type": "execute_result"
    }
   ],
   "source": [
    "largest_element([1,2,-1,0,8])"
   ]
  },
  {
   "cell_type": "code",
   "execution_count": 8,
   "id": "3443a03a-7e10-4bf8-b090-98722b466284",
   "metadata": {},
   "outputs": [],
   "source": [
    "## 2nd approach"
   ]
  },
  {
   "cell_type": "code",
   "execution_count": 9,
   "id": "a4135d8d-5539-4b91-aefb-7fd0c065d2e0",
   "metadata": {},
   "outputs": [],
   "source": [
    "def largest_element2(lst):\n",
    "    max_ele=lst[0]\n",
    "    \n",
    "    for i in range(0,len(lst)):\n",
    "        if(lst[i]>max_ele):\n",
    "            max_ele=lst[i]\n",
    "            \n",
    "    return max_ele        "
   ]
  },
  {
   "cell_type": "code",
   "execution_count": 10,
   "id": "40ad1fb9-27e2-422c-a4a6-c40ec2518286",
   "metadata": {},
   "outputs": [
    {
     "data": {
      "text/plain": [
       "9"
      ]
     },
     "execution_count": 10,
     "metadata": {},
     "output_type": "execute_result"
    }
   ],
   "source": [
    "largest_element2([9,2,0,7,1])"
   ]
  },
  {
   "cell_type": "markdown",
   "id": "f77c98a9-4319-4839-b93f-bb6e908dacbc",
   "metadata": {},
   "source": [
    "**4. Implement a function to count the occurrence of each element in a list.**"
   ]
  },
  {
   "cell_type": "code",
   "execution_count": 11,
   "id": "0440dd5c-0043-4cb2-be9b-a66f80af897d",
   "metadata": {},
   "outputs": [],
   "source": [
    "def count_element(lst):\n",
    "    dictonary={}\n",
    "    \n",
    "    for i in lst:\n",
    "        if(i in dictonary.keys()):\n",
    "            dictonary[i]=dictonary[i]+1\n",
    "        else:\n",
    "            dictonary[i]=1\n",
    "    \n",
    "    return dictonary\n",
    "            "
   ]
  },
  {
   "cell_type": "code",
   "execution_count": 12,
   "id": "43441fe9-f9c0-4744-9d7e-b81be1f79a75",
   "metadata": {},
   "outputs": [
    {
     "data": {
      "text/plain": [
       "{1: 2, 2: 2, 3: 2, 4: 1, 5: 1}"
      ]
     },
     "execution_count": 12,
     "metadata": {},
     "output_type": "execute_result"
    }
   ],
   "source": [
    "count_element([1,2,1,3,4,5,2,3])"
   ]
  },
  {
   "cell_type": "markdown",
   "id": "26588332-db40-4ac9-b495-e7a7812cbb89",
   "metadata": {},
   "source": [
    "**5. Write a Python program to find the second largest number in a list.**"
   ]
  },
  {
   "cell_type": "code",
   "execution_count": 13,
   "id": "a8c796e7-3bf1-4c0c-a4d5-c7e1e9864127",
   "metadata": {},
   "outputs": [],
   "source": [
    "def second_largest_ele(lst):\n",
    "    \n",
    "    lst.remove(max(lst))\n",
    "    \n",
    "    second_max=lst[0]\n",
    "    \n",
    "    for i in range(0,len(lst)):\n",
    "        if(lst[i]>second_max):\n",
    "            second_max=lst[i]\n",
    "            \n",
    "    return second_max       \n",
    "    "
   ]
  },
  {
   "cell_type": "code",
   "execution_count": 14,
   "id": "3e3ae0a5-125f-4ecf-acc2-72f7c197d0a1",
   "metadata": {},
   "outputs": [
    {
     "data": {
      "text/plain": [
       "45"
      ]
     },
     "execution_count": 14,
     "metadata": {},
     "output_type": "execute_result"
    }
   ],
   "source": [
    "second_largest_ele([1,2,1100,45])"
   ]
  },
  {
   "cell_type": "markdown",
   "id": "5d802643-0457-4bb4-9d73-217fda24279a",
   "metadata": {},
   "source": [
    "**6. Implement a function to remove duplicate elements from a list.**"
   ]
  },
  {
   "cell_type": "code",
   "execution_count": 15,
   "id": "916f583b-9303-4e19-99d4-cf75ddc9f493",
   "metadata": {},
   "outputs": [],
   "source": [
    "# 1st approach"
   ]
  },
  {
   "cell_type": "code",
   "execution_count": 16,
   "id": "b3616d92-c2a3-402a-a091-cacc7d51f3ce",
   "metadata": {},
   "outputs": [],
   "source": [
    "def remove_duplicates(lst):\n",
    "    d={}\n",
    "    \n",
    "    for i in lst:\n",
    "        if(i in d.keys()):\n",
    "            d[i]=d[i]+1\n",
    "        else:\n",
    "            d[i]=1\n",
    "            \n",
    "    for i in d.keys():\n",
    "        if(d[i]>1):\n",
    "            j=0\n",
    "            while(j<d[i]-1):\n",
    "                lst.remove(i)\n",
    "                j=j+1\n",
    "            \n",
    "    return lst       "
   ]
  },
  {
   "cell_type": "code",
   "execution_count": 17,
   "id": "4262cbab-ea52-4548-a646-6755d322dada",
   "metadata": {},
   "outputs": [
    {
     "data": {
      "text/plain": [
       "[2, 1, 3, 4, 7, 8]"
      ]
     },
     "execution_count": 17,
     "metadata": {},
     "output_type": "execute_result"
    }
   ],
   "source": [
    "remove_duplicates([1,2,1,3,4,8,7,8])"
   ]
  },
  {
   "cell_type": "code",
   "execution_count": 18,
   "id": "ad302281-333c-4309-aaea-80cb1daeb45a",
   "metadata": {},
   "outputs": [],
   "source": [
    "## 2nd approach"
   ]
  },
  {
   "cell_type": "code",
   "execution_count": 19,
   "id": "77d6f944-f09b-4aca-98ca-ce84541127fc",
   "metadata": {},
   "outputs": [],
   "source": [
    "def remove_dups(lst):\n",
    "    return list(set(lst))"
   ]
  },
  {
   "cell_type": "code",
   "execution_count": 20,
   "id": "9e617947-e538-4e0d-8f76-a817441a4aa3",
   "metadata": {},
   "outputs": [
    {
     "data": {
      "text/plain": [
       "[1, 2, 3, 4]"
      ]
     },
     "execution_count": 20,
     "metadata": {},
     "output_type": "execute_result"
    }
   ],
   "source": [
    "remove_dups([1,2,2,3,4])"
   ]
  },
  {
   "cell_type": "markdown",
   "id": "7463a332-378f-4dd3-91b4-cacf8e475ab1",
   "metadata": {},
   "source": [
    "**7. Write a program to calculate the factorial of a given number.**"
   ]
  },
  {
   "cell_type": "code",
   "execution_count": 21,
   "id": "2c7cfdc6-55da-4201-840f-87ada8fea37d",
   "metadata": {},
   "outputs": [],
   "source": [
    "## 1st approach"
   ]
  },
  {
   "cell_type": "code",
   "execution_count": 22,
   "id": "9c1e7c94-c66a-4461-a356-e84a76870ac0",
   "metadata": {},
   "outputs": [],
   "source": [
    "import math\n",
    "def factorial_of_num(n):\n",
    "    return math.factorial(n)"
   ]
  },
  {
   "cell_type": "code",
   "execution_count": 23,
   "id": "e5dceb9c-6861-4f83-8188-43ef1edc69e5",
   "metadata": {},
   "outputs": [
    {
     "data": {
      "text/plain": [
       "720"
      ]
     },
     "execution_count": 23,
     "metadata": {},
     "output_type": "execute_result"
    }
   ],
   "source": [
    "factorial_of_num(6)"
   ]
  },
  {
   "cell_type": "code",
   "execution_count": 24,
   "id": "fdb01d58-aae1-4c94-ba7c-f4305ff73800",
   "metadata": {},
   "outputs": [],
   "source": [
    "## 2nd approach"
   ]
  },
  {
   "cell_type": "code",
   "execution_count": 25,
   "id": "7afd0e83-1830-4ba0-a52b-9d82efceccce",
   "metadata": {},
   "outputs": [],
   "source": [
    "def fact(n):\n",
    "    if(n==0 or n==1):\n",
    "        return 1\n",
    "    \n",
    "    else:\n",
    "        return n*fact(n-1)"
   ]
  },
  {
   "cell_type": "code",
   "execution_count": 26,
   "id": "8135bcbc-04ed-4a04-995d-a069a4153b21",
   "metadata": {},
   "outputs": [
    {
     "data": {
      "text/plain": [
       "120"
      ]
     },
     "execution_count": 26,
     "metadata": {},
     "output_type": "execute_result"
    }
   ],
   "source": [
    "fact(5)"
   ]
  },
  {
   "cell_type": "markdown",
   "id": "82f12236-f182-4722-bcd4-191679ee3571",
   "metadata": {},
   "source": [
    "**8. Implement a function to check if a given number is prime.**"
   ]
  },
  {
   "cell_type": "code",
   "execution_count": 27,
   "id": "89ea4a4b-df8a-4b0a-a7d1-84449f774456",
   "metadata": {},
   "outputs": [],
   "source": [
    "def is_prime(n):\n",
    "    c=0\n",
    "    for i in range(1,n+1):\n",
    "        if(n%i==0):\n",
    "            c=c+1\n",
    "            \n",
    "    if(c==2):\n",
    "        return True\n",
    "    else:\n",
    "        return False"
   ]
  },
  {
   "cell_type": "code",
   "execution_count": 28,
   "id": "a75a712f-176b-4441-bcff-8cba34f9a624",
   "metadata": {},
   "outputs": [
    {
     "data": {
      "text/plain": [
       "True"
      ]
     },
     "execution_count": 28,
     "metadata": {},
     "output_type": "execute_result"
    }
   ],
   "source": [
    "is_prime(5)"
   ]
  },
  {
   "cell_type": "code",
   "execution_count": 29,
   "id": "a12dd4c9-b5b1-4fe4-81e3-e7019b803ffc",
   "metadata": {},
   "outputs": [
    {
     "data": {
      "text/plain": [
       "False"
      ]
     },
     "execution_count": 29,
     "metadata": {},
     "output_type": "execute_result"
    }
   ],
   "source": [
    "is_prime(4)"
   ]
  },
  {
   "cell_type": "markdown",
   "id": "4fc7a9b9-ec7e-4726-92a1-ffd99ad1d270",
   "metadata": {},
   "source": [
    "**9. Write a Python program to sort a list of integers in ascending order.**"
   ]
  },
  {
   "cell_type": "code",
   "execution_count": 30,
   "id": "392fa857-2762-44e1-902b-5fb2ef7251fc",
   "metadata": {},
   "outputs": [],
   "source": [
    "def sort_list(lst):\n",
    "    return sorted(lst)"
   ]
  },
  {
   "cell_type": "code",
   "execution_count": 31,
   "id": "1a425228-84f9-493e-a581-fcf42df0b8d4",
   "metadata": {},
   "outputs": [
    {
     "data": {
      "text/plain": [
       "[0, 1, 3, 9, 10]"
      ]
     },
     "execution_count": 31,
     "metadata": {},
     "output_type": "execute_result"
    }
   ],
   "source": [
    "sort_list([1,0,9,3,10])"
   ]
  },
  {
   "cell_type": "markdown",
   "id": "18d2033b-2ee2-4958-8a02-894056f6162a",
   "metadata": {},
   "source": [
    "**10. Implement a function to find the sum of all numbers in a list.**"
   ]
  },
  {
   "cell_type": "code",
   "execution_count": 32,
   "id": "e2b3089b-477a-4267-b85b-cbd0ffacc4fe",
   "metadata": {},
   "outputs": [],
   "source": [
    "from functools import reduce\n",
    "def sum_of_all_ele(lst):\n",
    "    return reduce(lambda x,y:x+y,lst)"
   ]
  },
  {
   "cell_type": "code",
   "execution_count": 33,
   "id": "9e97d9f9-b91e-4909-ac7a-d4e450e5082d",
   "metadata": {},
   "outputs": [
    {
     "data": {
      "text/plain": [
       "15"
      ]
     },
     "execution_count": 33,
     "metadata": {},
     "output_type": "execute_result"
    }
   ],
   "source": [
    "sum_of_all_ele([1,2,3,4,5])"
   ]
  },
  {
   "cell_type": "markdown",
   "id": "30e1938c-d0da-4022-b39b-5ccaba7f03a2",
   "metadata": {},
   "source": [
    "**11. Write a program to find the common elements between two lists.**\n"
   ]
  },
  {
   "cell_type": "code",
   "execution_count": 34,
   "id": "812789cc-fbb1-42be-bd32-802135549a1b",
   "metadata": {},
   "outputs": [],
   "source": [
    "def common_ele(lst1,lst2):\n",
    "    set1=set(lst1)\n",
    "    set2=set(lst2)\n",
    "    \n",
    "    return set1.intersection(set2)"
   ]
  },
  {
   "cell_type": "code",
   "execution_count": 35,
   "id": "a7b799e1-b752-4861-b08f-db3581536ee4",
   "metadata": {},
   "outputs": [
    {
     "data": {
      "text/plain": [
       "{2, 3}"
      ]
     },
     "execution_count": 35,
     "metadata": {},
     "output_type": "execute_result"
    }
   ],
   "source": [
    "common_ele([1,2,3,4],[2,3,7,8,9,10])"
   ]
  },
  {
   "cell_type": "markdown",
   "id": "ee22c0b2-e8bb-4296-9f20-2fd235e4ee30",
   "metadata": {},
   "source": [
    "**12. Implement a function to check if a given string is an anagram of another string.**"
   ]
  },
  {
   "cell_type": "code",
   "execution_count": 36,
   "id": "4c657250-ed26-4413-bc99-d606c4d4939e",
   "metadata": {},
   "outputs": [],
   "source": [
    "def is_anagram1(s,t):\n",
    "    s=s.replace(\" \",\"\")\n",
    "    t=t.replace(\" \",\"\")\n",
    "    \n",
    "    s=s.lower()\n",
    "    t=t.lower()\n",
    "    \n",
    "    lst1=sorted(list(s))\n",
    "    lst2=sorted(list(t))\n",
    "    \n",
    "    if(lst1==lst2):\n",
    "        return True\n",
    "    else:\n",
    "        return False\n"
   ]
  },
  {
   "cell_type": "code",
   "execution_count": 37,
   "id": "b5d4b9ce-914c-4641-95c0-96e0dff99fa5",
   "metadata": {},
   "outputs": [
    {
     "data": {
      "text/plain": [
       "True"
      ]
     },
     "execution_count": 37,
     "metadata": {},
     "output_type": "execute_result"
    }
   ],
   "source": [
    "is_anagram1(\"debit card\",\"bad credit\")"
   ]
  },
  {
   "cell_type": "markdown",
   "id": "9522a9ce-c677-47f7-987c-75f1eebe38cd",
   "metadata": {},
   "source": [
    "**13. Write a Python program to generate all permutations of a given string.**"
   ]
  },
  {
   "cell_type": "code",
   "execution_count": 38,
   "id": "11852138-c9ad-48f6-95ef-5a5a8bd637f9",
   "metadata": {},
   "outputs": [],
   "source": [
    "def permute(s):\n",
    "    if len(s) == 1:\n",
    "        return [s]\n",
    "    \n",
    "    permutations = []\n",
    "    for i in range(len(s)):\n",
    "        current_char = s[i]\n",
    "        \n",
    "        remaining_chars = s[:i] + s[i+1:]\n",
    "        sub_permutations = permute(remaining_chars)\n",
    "        \n",
    "        for perm in sub_permutations:\n",
    "            permutations.append(current_char + perm)\n",
    "    \n",
    "    return permutations\n"
   ]
  },
  {
   "cell_type": "code",
   "execution_count": 39,
   "id": "5f6f34ca-e29b-444f-983f-146674d40ffa",
   "metadata": {},
   "outputs": [
    {
     "data": {
      "text/plain": [
       "['abc', 'acb', 'bac', 'bca', 'cab', 'cba']"
      ]
     },
     "execution_count": 39,
     "metadata": {},
     "output_type": "execute_result"
    }
   ],
   "source": [
    "permute(\"abc\")"
   ]
  },
  {
   "cell_type": "markdown",
   "id": "8a8178e8-97d7-4d7c-a5c5-2c3ff2c59b7e",
   "metadata": {},
   "source": [
    "**14. Implement a function to calculate the Fibonacci sequence up to a given number of terms.**"
   ]
  },
  {
   "cell_type": "code",
   "execution_count": 40,
   "id": "0381d62b-1f20-4bc4-86f0-bb480c586f22",
   "metadata": {},
   "outputs": [],
   "source": [
    "def fib_sequence(n):\n",
    "    if n <= 0:\n",
    "        return []\n",
    "    elif n == 1:\n",
    "        return [0]\n",
    "    elif n == 2:\n",
    "        return [0, 1]\n",
    "    else:\n",
    "        sequence = [0, 1]\n",
    "        i = 2\n",
    "        while i < n:\n",
    "            sequence.append(sequence[i - 1] + sequence[i - 2])\n",
    "            i += 1\n",
    "        return sequence\n",
    "    "
   ]
  },
  {
   "cell_type": "code",
   "execution_count": 41,
   "id": "38ee6f5f-f49c-4872-b5e7-2cde5f8e7683",
   "metadata": {},
   "outputs": [
    {
     "data": {
      "text/plain": [
       "[0, 1, 1, 2, 3]"
      ]
     },
     "execution_count": 41,
     "metadata": {},
     "output_type": "execute_result"
    }
   ],
   "source": [
    "fib_sequence(5)"
   ]
  },
  {
   "cell_type": "markdown",
   "id": "b496519b-6acd-48b7-90a6-92e8aa215fba",
   "metadata": {},
   "source": [
    "**15. Write a program to find the median of a list of numbers.**"
   ]
  },
  {
   "cell_type": "code",
   "execution_count": 42,
   "id": "40e9accc-c475-48c3-bc01-aca4b3f327e0",
   "metadata": {},
   "outputs": [],
   "source": [
    "# 1st approach"
   ]
  },
  {
   "cell_type": "code",
   "execution_count": 43,
   "id": "b33dd3ce-ab6c-4ea8-b92e-9a6921992beb",
   "metadata": {},
   "outputs": [],
   "source": [
    "import numpy as np\n",
    "def median_of_lst(lst):\n",
    "    \n",
    "    return np.median(lst)"
   ]
  },
  {
   "cell_type": "code",
   "execution_count": 44,
   "id": "d3c84edb-0dc3-4480-b112-d8d84e769bb2",
   "metadata": {},
   "outputs": [
    {
     "data": {
      "text/plain": [
       "5.5"
      ]
     },
     "execution_count": 44,
     "metadata": {},
     "output_type": "execute_result"
    }
   ],
   "source": [
    "median_of_lst([1,10,3,4,7,9])"
   ]
  },
  {
   "cell_type": "code",
   "execution_count": 45,
   "id": "1a90f0dd-399a-4d29-9d8e-4e2154b6658f",
   "metadata": {},
   "outputs": [],
   "source": [
    "# 2nd approach"
   ]
  },
  {
   "cell_type": "code",
   "execution_count": 46,
   "id": "8111ecfa-a8d1-49b5-b3cc-5bacb211c4b5",
   "metadata": {},
   "outputs": [],
   "source": [
    "def median_lst(lst):\n",
    "    n=len(lst)\n",
    "    lst.sort()\n",
    "    if(n%2!=0):\n",
    "        return lst[n//2]\n",
    "    else:\n",
    "        return (lst[n//2]+lst[(n-1)//2])/2"
   ]
  },
  {
   "cell_type": "code",
   "execution_count": 47,
   "id": "c739786c-f4e9-413a-8620-347fce6f317d",
   "metadata": {},
   "outputs": [
    {
     "data": {
      "text/plain": [
       "5.5"
      ]
     },
     "execution_count": 47,
     "metadata": {},
     "output_type": "execute_result"
    }
   ],
   "source": [
    "median_lst([1,10,3,4,7,9])"
   ]
  },
  {
   "cell_type": "markdown",
   "id": "52f6770e-88a6-4d21-9445-9a5c88ea375d",
   "metadata": {},
   "source": [
    "**16. Implement a function to check if a given list is sorted in non-decreasing**"
   ]
  },
  {
   "cell_type": "code",
   "execution_count": 48,
   "id": "8d9439e6-876f-4a9e-b71b-16cd5e7a647e",
   "metadata": {},
   "outputs": [],
   "source": [
    "def check_non_descending(lst):\n",
    "    for i in range(0,len(lst)-1):\n",
    "        if(lst[i]<=lst[i+1]):\n",
    "            continue\n",
    "        else:\n",
    "            return False\n",
    "        \n",
    "    return True"
   ]
  },
  {
   "cell_type": "code",
   "execution_count": 49,
   "id": "938ef44b-a2eb-44ab-84af-d363f7007e66",
   "metadata": {},
   "outputs": [
    {
     "data": {
      "text/plain": [
       "True"
      ]
     },
     "execution_count": 49,
     "metadata": {},
     "output_type": "execute_result"
    }
   ],
   "source": [
    "check_non_descending([1,1,2,3])"
   ]
  },
  {
   "cell_type": "markdown",
   "id": "287b99af-44ed-49b4-bc53-5de4dc130caa",
   "metadata": {},
   "source": [
    "**17. Write a Python program to find the intersection of two lists.**"
   ]
  },
  {
   "cell_type": "code",
   "execution_count": 50,
   "id": "c9e20843-e6e1-4876-926e-f7115078ae42",
   "metadata": {},
   "outputs": [],
   "source": [
    "def intersection_lst(lst1,lst2):\n",
    "    lst=[]\n",
    "    for i in lst1:\n",
    "        if(i in lst2):\n",
    "            lst.append(i)\n",
    "            \n",
    "    return lst"
   ]
  },
  {
   "cell_type": "code",
   "execution_count": 51,
   "id": "81225fe2-6fc9-4aeb-8c28-c74ba6843158",
   "metadata": {},
   "outputs": [
    {
     "data": {
      "text/plain": [
       "[2, 3]"
      ]
     },
     "execution_count": 51,
     "metadata": {},
     "output_type": "execute_result"
    }
   ],
   "source": [
    "intersection_lst([1,2,3,4],[2,3,6,7,9])"
   ]
  },
  {
   "cell_type": "markdown",
   "id": "0c4697f8-514b-466f-8646-2e7f3b79919d",
   "metadata": {},
   "source": [
    "**18. Implement a function to find the maximum subarray sum in a given list.**"
   ]
  },
  {
   "cell_type": "code",
   "execution_count": 52,
   "id": "aa60b5cb-9488-47be-aeaa-161725a13db5",
   "metadata": {},
   "outputs": [],
   "source": [
    "def max_subarray_sum(arr):\n",
    "    sum_value=0\n",
    "    max_value=arr[0]\n",
    "    for i in range(0,len(arr)):\n",
    "        sum_value=sum_value+arr[i]\n",
    "        if(sum_value>max_value):\n",
    "            max_value=sum_value\n",
    "        elif(sum_value<0):\n",
    "            sum_value=0\n",
    "            \n",
    "    return max_value       "
   ]
  },
  {
   "cell_type": "code",
   "execution_count": 53,
   "id": "944b9e4c-8b89-4f51-90b4-d196ef1cf843",
   "metadata": {},
   "outputs": [
    {
     "data": {
      "text/plain": [
       "6"
      ]
     },
     "execution_count": 53,
     "metadata": {},
     "output_type": "execute_result"
    }
   ],
   "source": [
    "max_subarray_sum([-2,1,-3,4,-1,2,1,-5,4])"
   ]
  },
  {
   "cell_type": "code",
   "execution_count": 54,
   "id": "f9d5000f-ccb5-417e-b4e0-f5c145de5930",
   "metadata": {},
   "outputs": [
    {
     "data": {
      "text/plain": [
       "23"
      ]
     },
     "execution_count": 54,
     "metadata": {},
     "output_type": "execute_result"
    }
   ],
   "source": [
    "max_subarray_sum([5,4,-1,7,8])"
   ]
  },
  {
   "cell_type": "markdown",
   "id": "bd2155d6-2b7d-4e31-a904-45652f6bb776",
   "metadata": {},
   "source": [
    "**19. Write a program to remove all vowels from a given string.**"
   ]
  },
  {
   "cell_type": "code",
   "execution_count": 55,
   "id": "2acc6536-096e-40cf-a9ab-abf3783b5dec",
   "metadata": {},
   "outputs": [],
   "source": [
    "def remove_vowels(string):\n",
    "    vowel=[\"a\",\"e\",\"i\",\"o\",\"u\",\"A\",\"E\",\"I\",\"O\",\"U\"]\n",
    "    lst=list(string)\n",
    "    \n",
    "    for i in string:\n",
    "        if(i in vowel):\n",
    "            lst.remove(i)\n",
    "            \n",
    "    return \"\".join(lst)         "
   ]
  },
  {
   "cell_type": "code",
   "execution_count": 56,
   "id": "cbf394a9-109a-47c2-882e-02f4a8ab6dbd",
   "metadata": {},
   "outputs": [
    {
     "data": {
      "text/plain": [
       "'prgy s gd'"
      ]
     },
     "execution_count": 56,
     "metadata": {},
     "output_type": "execute_result"
    }
   ],
   "source": [
    "remove_vowels(\"pragya is good\")\n"
   ]
  },
  {
   "cell_type": "markdown",
   "id": "74b8f57e-9f89-4d59-886f-9d531619fffb",
   "metadata": {},
   "source": [
    "**20. Implement a function to reverse the order of words in a given sentence.**"
   ]
  },
  {
   "cell_type": "code",
   "execution_count": 57,
   "id": "672ad1cf-ec57-4733-b932-b1a4918d21a0",
   "metadata": {},
   "outputs": [],
   "source": [
    "def reverse_order_of_words(string):\n",
    "    lst=string.split(\" \")\n",
    "    \n",
    "    return \" \".join(lst[::-1])"
   ]
  },
  {
   "cell_type": "code",
   "execution_count": 58,
   "id": "044765d5-d387-486b-a02a-06257a275e26",
   "metadata": {},
   "outputs": [
    {
     "data": {
      "text/plain": [
       "'Masters Science Data'"
      ]
     },
     "execution_count": 58,
     "metadata": {},
     "output_type": "execute_result"
    }
   ],
   "source": [
    "reverse_order_of_words(\"Data Science Masters\")"
   ]
  },
  {
   "cell_type": "markdown",
   "id": "97e34439-21ac-4f73-80d6-d2dfbe2a4dc2",
   "metadata": {},
   "source": [
    "\n"
   ]
  },
  {
   "cell_type": "markdown",
   "id": "59a47e6f-6b80-42ad-990d-5bb911c13bca",
   "metadata": {},
   "source": [
    "**21. Write a Python program to check if two strings are anagrams of each other.**"
   ]
  },
  {
   "cell_type": "code",
   "execution_count": 59,
   "id": "676b172c-90ed-4eec-b3b2-83c33dc5fa93",
   "metadata": {},
   "outputs": [],
   "source": [
    "def is_anagram1(s,t):\n",
    "    s=s.replace(\" \",\"\")\n",
    "    t=t.replace(\" \",\"\")\n",
    "    \n",
    "    s=s.lower()\n",
    "    t=t.lower()\n",
    "    \n",
    "    lst1=sorted(list(s))\n",
    "    lst2=sorted(list(t))\n",
    "    \n",
    "    if(lst1==lst2):\n",
    "        return True\n",
    "    else:\n",
    "        return False\n"
   ]
  },
  {
   "cell_type": "code",
   "execution_count": 60,
   "id": "50f6b9da-8ea2-4eee-a629-7fae3d96b997",
   "metadata": {},
   "outputs": [
    {
     "data": {
      "text/plain": [
       "True"
      ]
     },
     "execution_count": 60,
     "metadata": {},
     "output_type": "execute_result"
    }
   ],
   "source": [
    "is_anagram1(\"debit card\",\"bad credit\")"
   ]
  },
  {
   "cell_type": "markdown",
   "id": "68be450b-6859-4fff-8e4b-98bc998ab2ea",
   "metadata": {},
   "source": [
    "**22. Implement a function to find the first non-repeating character in a string.**"
   ]
  },
  {
   "cell_type": "code",
   "execution_count": 61,
   "id": "5f158dd4-df47-48d8-97d4-bbbcf70ec1bf",
   "metadata": {},
   "outputs": [],
   "source": [
    "def first_non_repeating_char(string):\n",
    "    \n",
    "    lst=string.split(\" \")\n",
    "    new_string=\"\".join(lst)\n",
    "    \n",
    "    for i in new_string:\n",
    "        if(new_string.count(i)==1):\n",
    "            return i"
   ]
  },
  {
   "cell_type": "code",
   "execution_count": 62,
   "id": "455e1f2d-bdb6-429d-96d2-9694f5453e76",
   "metadata": {},
   "outputs": [
    {
     "data": {
      "text/plain": [
       "'j'"
      ]
     },
     "execution_count": 62,
     "metadata": {},
     "output_type": "execute_result"
    }
   ],
   "source": [
    "first_non_repeating_char(\"iaa ii ji\")"
   ]
  },
  {
   "cell_type": "markdown",
   "id": "a1c1178f-123c-40c5-a2fa-9b3b40a1976d",
   "metadata": {},
   "source": [
    "**23. Write a program to find the prime factors of a given number.**"
   ]
  },
  {
   "cell_type": "code",
   "execution_count": 63,
   "id": "186c8393-e0e9-49fb-b40d-cb6df1810517",
   "metadata": {},
   "outputs": [],
   "source": [
    "def prime_factors(n):\n",
    "    lst=[]\n",
    "    for i in range(1,n+1):\n",
    "        if(n%i==0):\n",
    "            c=0\n",
    "            for j in range(1,n+1):\n",
    "                if(i%j==0):\n",
    "                    c=c+1\n",
    "            if(c==2):\n",
    "                lst.append(i)\n",
    "            \n",
    "    return lst    "
   ]
  },
  {
   "cell_type": "code",
   "execution_count": 64,
   "id": "a3eab532-636c-4afb-984b-428b3da6a227",
   "metadata": {},
   "outputs": [
    {
     "data": {
      "text/plain": [
       "[2, 5]"
      ]
     },
     "execution_count": 64,
     "metadata": {},
     "output_type": "execute_result"
    }
   ],
   "source": [
    "prime_factors(20)"
   ]
  },
  {
   "cell_type": "markdown",
   "id": "365d25f2-9e8e-4df8-9604-11f1fe5dba7f",
   "metadata": {},
   "source": [
    "**24. Implement a function to check if a given number is a power of two.**"
   ]
  },
  {
   "cell_type": "code",
   "execution_count": 65,
   "id": "38c78d1f-116b-4c70-a957-01ef77afa0e3",
   "metadata": {},
   "outputs": [],
   "source": [
    "import math\n",
    "def is_power_of_two(n):\n",
    "    value=math.log2(n)\n",
    "    integral_part=math.trunc(value)\n",
    "    \n",
    "    if(value-integral_part==0):\n",
    "        return True\n",
    "    else:\n",
    "        return False"
   ]
  },
  {
   "cell_type": "code",
   "execution_count": 66,
   "id": "39c396a7-7e36-4f33-be9f-2093b6da8fb9",
   "metadata": {},
   "outputs": [
    {
     "data": {
      "text/plain": [
       "True"
      ]
     },
     "execution_count": 66,
     "metadata": {},
     "output_type": "execute_result"
    }
   ],
   "source": [
    "is_power_of_two(64)"
   ]
  },
  {
   "cell_type": "markdown",
   "id": "0b567315-1348-481e-b070-2d1a7cc57ca0",
   "metadata": {},
   "source": [
    "**25. Write a Python program to merge two sorted lists into a single sorted list.**"
   ]
  },
  {
   "cell_type": "code",
   "execution_count": 67,
   "id": "66c78432-7f91-414b-af8e-24d5d8792899",
   "metadata": {},
   "outputs": [],
   "source": [
    "def merge_sorted_list(lst1,lst2):\n",
    "    lst1.extend(lst2)\n",
    "    lst1.sort()\n",
    "    \n",
    "    return lst1"
   ]
  },
  {
   "cell_type": "code",
   "execution_count": 68,
   "id": "62ac8d88-33ae-4100-ad8f-3c2ca83e39c1",
   "metadata": {},
   "outputs": [
    {
     "data": {
      "text/plain": [
       "[1, 2, 4, 4, 6, 9, 10, 20]"
      ]
     },
     "execution_count": 68,
     "metadata": {},
     "output_type": "execute_result"
    }
   ],
   "source": [
    "merge_sorted_list([1,4,6,9],[2,4,10,20])"
   ]
  },
  {
   "cell_type": "markdown",
   "id": "b19da7f8-8019-4063-b360-2d44c4fbda8e",
   "metadata": {},
   "source": [
    "**26. Implement a function to find the mode of a list of numbers.**"
   ]
  },
  {
   "cell_type": "code",
   "execution_count": 69,
   "id": "4885dce1-3112-4049-ac24-67d31c0c250e",
   "metadata": {},
   "outputs": [],
   "source": [
    "def mode_of_lst(lst):\n",
    "    d={}\n",
    "    \n",
    "    for i in lst:\n",
    "        d[i]=lst.count(i)\n",
    "        \n",
    "    max_value=max(d.values())\n",
    "    \n",
    "    for i in d.keys():\n",
    "        if(d[i]==max_value):\n",
    "            return i"
   ]
  },
  {
   "cell_type": "code",
   "execution_count": 70,
   "id": "0086bbae-8dda-4e67-83fc-4fe4390ad440",
   "metadata": {},
   "outputs": [
    {
     "data": {
      "text/plain": [
       "2"
      ]
     },
     "execution_count": 70,
     "metadata": {},
     "output_type": "execute_result"
    }
   ],
   "source": [
    "mode_of_lst([1,2,2,5,7])"
   ]
  },
  {
   "cell_type": "markdown",
   "id": "9d863605-e02a-418d-81d9-29d184687851",
   "metadata": {},
   "source": [
    "**27. Write a program to find the greatest common divisor (GCD) of two numbers.**"
   ]
  },
  {
   "cell_type": "code",
   "execution_count": 71,
   "id": "017f6ee6-95f8-4bf1-92f6-b8a6da41e923",
   "metadata": {},
   "outputs": [],
   "source": [
    "def gcd_of_nums(n1,n2):\n",
    "    lst1=[]\n",
    "    lst2=[]\n",
    "    \n",
    "    for i in range(1,n1+1):\n",
    "        if(n1%i==0):\n",
    "            lst1.append(i)\n",
    "            \n",
    "    for j in range(1,n2+1):\n",
    "        if(n2%j==0):\n",
    "            lst2.append(j)\n",
    "            \n",
    "    s1=set(lst1)\n",
    "    s2=set(lst2)\n",
    "    \n",
    "    s3=s1.intersection(s2)\n",
    "    \n",
    "    return max(s3)"
   ]
  },
  {
   "cell_type": "code",
   "execution_count": 72,
   "id": "6ff25823-78d4-40b0-b399-6f19a9b076bc",
   "metadata": {},
   "outputs": [
    {
     "data": {
      "text/plain": [
       "5"
      ]
     },
     "execution_count": 72,
     "metadata": {},
     "output_type": "execute_result"
    }
   ],
   "source": [
    "gcd_of_nums(15,40)"
   ]
  },
  {
   "cell_type": "markdown",
   "id": "d62c9c6c-c5f0-4a06-9b3e-a5ac4417935f",
   "metadata": {},
   "source": [
    "**28. Implement a function to calculate the square root of a given number.**"
   ]
  },
  {
   "cell_type": "code",
   "execution_count": 73,
   "id": "04dd4e41-ca45-4dea-a9af-b062eb06cfe0",
   "metadata": {},
   "outputs": [],
   "source": [
    "def calc_sqrt(n):\n",
    "    return (n)**(1/2)"
   ]
  },
  {
   "cell_type": "code",
   "execution_count": 74,
   "id": "68c8f06f-627d-4fcd-934d-3c71a9951621",
   "metadata": {},
   "outputs": [
    {
     "data": {
      "text/plain": [
       "3.1622776601683795"
      ]
     },
     "execution_count": 74,
     "metadata": {},
     "output_type": "execute_result"
    }
   ],
   "source": [
    "calc_sqrt(10)"
   ]
  },
  {
   "cell_type": "markdown",
   "id": "2c0d2ad1-3859-4608-8354-b1e13056babf",
   "metadata": {},
   "source": [
    "**29. Write a Python program to check if a given string is a valid palindrome ignoring non-alphanumeric characters.**"
   ]
  },
  {
   "cell_type": "code",
   "execution_count": 75,
   "id": "888c9a99-74bb-4972-955f-d07b9442789d",
   "metadata": {},
   "outputs": [],
   "source": [
    "def valid_palindrome_string(s):\n",
    "    low=0\n",
    "    high=len(s)-1\n",
    "    \n",
    "    while(low<high):\n",
    "        while(low<high and not s[low].isalnum()):\n",
    "            low=low+1\n",
    "        while(low<high and not s[high].isalnum()):\n",
    "            high=high-1\n",
    "        if(s[low].lower()==s[high].lower()):\n",
    "            low=low+1\n",
    "            high=high-1\n",
    "        else:\n",
    "            return False\n",
    "        \n",
    "    return True    \n",
    "            "
   ]
  },
  {
   "cell_type": "code",
   "execution_count": 76,
   "id": "a96470db-7f5c-4f36-bd2d-a91787336ead",
   "metadata": {},
   "outputs": [
    {
     "data": {
      "text/plain": [
       "True"
      ]
     },
     "execution_count": 76,
     "metadata": {},
     "output_type": "execute_result"
    }
   ],
   "source": [
    "valid_palindrome_string(\"nitiN ,\")"
   ]
  },
  {
   "cell_type": "markdown",
   "id": "2e848448-cdb7-4f0f-95d6-4c3fa9ec1e7e",
   "metadata": {},
   "source": [
    "**30. Implement a function to find the minimum element in a rotated sorted list.**"
   ]
  },
  {
   "cell_type": "code",
   "execution_count": 77,
   "id": "46d6a528-e55a-49bb-9128-3bad0bcd0d93",
   "metadata": {},
   "outputs": [],
   "source": [
    "def min_ele_in_rotated_list(lst):\n",
    "    if lst == sorted(lst):\n",
    "        return lst[0]\n",
    "\n",
    "    low = 0\n",
    "    high = len(lst) - 1\n",
    "\n",
    "    while low < high:\n",
    "        mid = low + (high - low) // 2\n",
    "\n",
    "        if lst[mid] > lst[high]:\n",
    "            low = mid + 1\n",
    "        else:\n",
    "            high = mid\n",
    "\n",
    "    return lst[low]\n"
   ]
  },
  {
   "cell_type": "code",
   "execution_count": 78,
   "id": "2a84d2bc-63df-4dbb-b3f3-a8c6d63da3bd",
   "metadata": {},
   "outputs": [
    {
     "data": {
      "text/plain": [
       "1"
      ]
     },
     "execution_count": 78,
     "metadata": {},
     "output_type": "execute_result"
    }
   ],
   "source": [
    "min_ele_in_rotated_list([3,4,5,1,2])"
   ]
  },
  {
   "cell_type": "code",
   "execution_count": 79,
   "id": "a73bd67b-946a-4775-af56-b2b91058d993",
   "metadata": {},
   "outputs": [
    {
     "data": {
      "text/plain": [
       "11"
      ]
     },
     "execution_count": 79,
     "metadata": {},
     "output_type": "execute_result"
    }
   ],
   "source": [
    "min_ele_in_rotated_list([11,13,15,17])"
   ]
  },
  {
   "cell_type": "code",
   "execution_count": 80,
   "id": "b1ac6b74-2c59-4d85-b581-decc7233838d",
   "metadata": {},
   "outputs": [
    {
     "data": {
      "text/plain": [
       "0"
      ]
     },
     "execution_count": 80,
     "metadata": {},
     "output_type": "execute_result"
    }
   ],
   "source": [
    "min_ele_in_rotated_list([4,5,6,7,0,1,2])"
   ]
  },
  {
   "cell_type": "markdown",
   "id": "ecb30b37-1b9b-4601-b73a-4dfcc3ddde64",
   "metadata": {},
   "source": [
    "**31. Write a program to find the sum of all even numbers in a list.**"
   ]
  },
  {
   "cell_type": "code",
   "execution_count": 81,
   "id": "ce2b814a-3d1f-4c01-b097-b014c3613b36",
   "metadata": {},
   "outputs": [],
   "source": [
    "from functools import reduce\n",
    "def sum_of_even_num(lst):\n",
    "    even_nums=[x for x in lst if(x%2==0)]\n",
    "    \n",
    "    return reduce(lambda x,y:x+y,even_nums)"
   ]
  },
  {
   "cell_type": "code",
   "execution_count": 82,
   "id": "f51fca04-3341-4fbd-9094-2c52a4c6c244",
   "metadata": {},
   "outputs": [
    {
     "data": {
      "text/plain": [
       "14"
      ]
     },
     "execution_count": 82,
     "metadata": {},
     "output_type": "execute_result"
    }
   ],
   "source": [
    "sum_of_even_num([1,2,3,4,8,9])"
   ]
  },
  {
   "cell_type": "markdown",
   "id": "e33260ed-e9f5-4c41-8ae6-879eb0752c98",
   "metadata": {},
   "source": [
    "**32. Implement a function to calculate the power of a number using recursion.**"
   ]
  },
  {
   "cell_type": "code",
   "execution_count": 83,
   "id": "33f8303a-9143-40bd-8933-0afb46d73f1f",
   "metadata": {},
   "outputs": [],
   "source": [
    "def power_of_num(x,n):\n",
    "    if(n==0):\n",
    "        return 1\n",
    "    if(n==1):\n",
    "        return x\n",
    "    elif(n>1):\n",
    "        return x*power_of_num(x,n-1)\n",
    "    elif(n<0):\n",
    "        x=1/x\n",
    "        n=-n\n",
    "        return x*power_of_num(x,n-1)\n",
    "    "
   ]
  },
  {
   "cell_type": "code",
   "execution_count": 84,
   "id": "182d8377-b58e-4828-868d-07438858048e",
   "metadata": {},
   "outputs": [
    {
     "data": {
      "text/plain": [
       "32"
      ]
     },
     "execution_count": 84,
     "metadata": {},
     "output_type": "execute_result"
    }
   ],
   "source": [
    "power_of_num(2,5)"
   ]
  },
  {
   "cell_type": "code",
   "execution_count": 85,
   "id": "315f1486-772f-4cde-9203-afeda89e8c60",
   "metadata": {},
   "outputs": [
    {
     "data": {
      "text/plain": [
       "0.03125"
      ]
     },
     "execution_count": 85,
     "metadata": {},
     "output_type": "execute_result"
    }
   ],
   "source": [
    "power_of_num(2,-5)"
   ]
  },
  {
   "cell_type": "code",
   "execution_count": 86,
   "id": "1bbde5c8-3c81-49fe-83c2-7ce38ac12b3b",
   "metadata": {},
   "outputs": [
    {
     "data": {
      "text/plain": [
       "1"
      ]
     },
     "execution_count": 86,
     "metadata": {},
     "output_type": "execute_result"
    }
   ],
   "source": [
    "power_of_num(2,0)"
   ]
  },
  {
   "cell_type": "markdown",
   "id": "804915f2-c59f-48fd-83fb-85bfd1ae57c3",
   "metadata": {},
   "source": [
    "**33. Write a Python program to remove duplicates from a list while preserving the order.**"
   ]
  },
  {
   "cell_type": "code",
   "execution_count": 87,
   "id": "a72cb5d9-c583-4bf3-9040-0c047a739feb",
   "metadata": {},
   "outputs": [],
   "source": [
    "def remove_duplicates_from_list(lst):\n",
    "    l1=[]\n",
    "    \n",
    "    for i in lst:\n",
    "        if(i not in l1):\n",
    "            l1.append(i)\n",
    "            \n",
    "    return l1        "
   ]
  },
  {
   "cell_type": "code",
   "execution_count": 88,
   "id": "a0e387ad-dfdd-4124-85c4-7df593514b56",
   "metadata": {},
   "outputs": [
    {
     "data": {
      "text/plain": [
       "[1, 2, 5, 3]"
      ]
     },
     "execution_count": 88,
     "metadata": {},
     "output_type": "execute_result"
    }
   ],
   "source": [
    "remove_duplicates_from_list([1,2,5,3,2,5,1])"
   ]
  },
  {
   "cell_type": "markdown",
   "id": "0e65481d-4bb0-41a8-bfdb-6890bff51232",
   "metadata": {},
   "source": [
    "**34. Implement a function to find the longest common prefix among a list of strings.**"
   ]
  },
  {
   "cell_type": "code",
   "execution_count": 89,
   "id": "f11d3c55-9a48-4cfc-a9b4-d0ef5e29b21d",
   "metadata": {},
   "outputs": [],
   "source": [
    "def longest_common_prefix(strs):\n",
    "    if not strs:\n",
    "        return \"\"\n",
    "\n",
    "    # Find the shortest string in the list\n",
    "    min_len = min(len(s) for s in strs)\n",
    "\n",
    "    # Check each character in the shortest string\n",
    "    for i in range(min_len):\n",
    "        # Check if all strings have the same character at position i\n",
    "        if any(strs[j][i] != strs[0][i] for j in range(1, len(strs))):\n",
    "            return strs[0][:i]\n",
    "\n",
    "    return strs[0][:min_len]"
   ]
  },
  {
   "cell_type": "code",
   "execution_count": 90,
   "id": "6286d1c3-f2f9-4ff1-ab12-c459fe4b7afc",
   "metadata": {},
   "outputs": [
    {
     "data": {
      "text/plain": [
       "'fl'"
      ]
     },
     "execution_count": 90,
     "metadata": {},
     "output_type": "execute_result"
    }
   ],
   "source": [
    "longest_common_prefix([\"flower\", \"flow\", \"flight\"])"
   ]
  },
  {
   "cell_type": "markdown",
   "id": "bd0a9317-3d5c-4a35-8149-46eec7d1d066",
   "metadata": {},
   "source": [
    "**35. Write a program to check if a given number is a perfect square.**"
   ]
  },
  {
   "cell_type": "code",
   "execution_count": 91,
   "id": "75386a97-e430-44fe-af3c-6223ab33f372",
   "metadata": {},
   "outputs": [],
   "source": [
    "def is_perfect_square(n):\n",
    "    value=n**(1/2)\n",
    "    integral_part=math.trunc(value)\n",
    "    \n",
    "    if(value-integral_part==0):\n",
    "        return True\n",
    "    else:\n",
    "        return False"
   ]
  },
  {
   "cell_type": "code",
   "execution_count": 92,
   "id": "35cd5def-76a2-484b-a354-0264772e80b2",
   "metadata": {},
   "outputs": [
    {
     "data": {
      "text/plain": [
       "True"
      ]
     },
     "execution_count": 92,
     "metadata": {},
     "output_type": "execute_result"
    }
   ],
   "source": [
    "is_perfect_square(9)"
   ]
  },
  {
   "cell_type": "markdown",
   "id": "9587ca95-616e-486c-808a-441defdd5dcf",
   "metadata": {},
   "source": [
    "**36. Implement a function to calculate the product of all elements in a list.**"
   ]
  },
  {
   "cell_type": "code",
   "execution_count": 93,
   "id": "894761a3-477a-43ef-845c-0ec5e68bf012",
   "metadata": {},
   "outputs": [],
   "source": [
    "def product_of_ele(lst):\n",
    "    \n",
    "    return reduce(lambda x,y:x*y,lst)"
   ]
  },
  {
   "cell_type": "code",
   "execution_count": 94,
   "id": "34f5b773-9233-48fe-a38f-b5b82ee683b4",
   "metadata": {},
   "outputs": [
    {
     "data": {
      "text/plain": [
       "120"
      ]
     },
     "execution_count": 94,
     "metadata": {},
     "output_type": "execute_result"
    }
   ],
   "source": [
    "product_of_ele([1,2,3,4,5])"
   ]
  },
  {
   "cell_type": "markdown",
   "id": "c99f6c8e-6069-4d51-b21f-2b9e28d24183",
   "metadata": {},
   "source": [
    "**37. Write a Python program to reverse the order of words in a sentence while preserving the word order.**"
   ]
  },
  {
   "cell_type": "code",
   "execution_count": 95,
   "id": "c1883c8e-7afc-4eb1-9691-8ecee888b360",
   "metadata": {},
   "outputs": [],
   "source": [
    "def reverse_order_of_words(string):\n",
    "    lst=string.split(\" \")\n",
    "    \n",
    "    return \" \".join(lst[::-1])"
   ]
  },
  {
   "cell_type": "code",
   "execution_count": 96,
   "id": "d25ea2de-b251-4a62-88ea-a64341798b83",
   "metadata": {},
   "outputs": [
    {
     "data": {
      "text/plain": [
       "'Science Data'"
      ]
     },
     "execution_count": 96,
     "metadata": {},
     "output_type": "execute_result"
    }
   ],
   "source": [
    "reverse_order_of_words(\"Data Science\")"
   ]
  },
  {
   "cell_type": "markdown",
   "id": "0fc4988f-6f2c-42b5-bb49-4b19fc68aeaa",
   "metadata": {},
   "source": [
    "**38. Implement a function to find the missing number in a given list of consecutive numbers.**"
   ]
  },
  {
   "cell_type": "code",
   "execution_count": 97,
   "id": "605e9a37-d732-418e-9760-cb66309de86f",
   "metadata": {},
   "outputs": [],
   "source": [
    "def missing_number(lst):\n",
    "    diff=lst[0]\n",
    "    for i in range(len(lst)):\n",
    "        if(lst[i]-i!=diff):\n",
    "            return lst[i]-1\n",
    "        "
   ]
  },
  {
   "cell_type": "code",
   "execution_count": 98,
   "id": "f3e5a0bc-fd65-4fa9-9653-2e232525e82d",
   "metadata": {},
   "outputs": [
    {
     "data": {
      "text/plain": [
       "7"
      ]
     },
     "execution_count": 98,
     "metadata": {},
     "output_type": "execute_result"
    }
   ],
   "source": [
    "missing_number([5,6,8])"
   ]
  },
  {
   "cell_type": "markdown",
   "id": "fbb0703c-f759-4336-b556-7adcf762fb0a",
   "metadata": {},
   "source": [
    "**39. Write a program to find the sum of digits of a given number.**"
   ]
  },
  {
   "cell_type": "code",
   "execution_count": 99,
   "id": "9a476165-5304-4796-83d2-dd0efe04a2b7",
   "metadata": {},
   "outputs": [],
   "source": [
    "def sum_of_digits(n):\n",
    "    sum_value=0\n",
    "    while(n>0):\n",
    "        rem=n%10\n",
    "        sum_value=sum_value+rem\n",
    "        n=n//10\n",
    "        \n",
    "    return sum_value     "
   ]
  },
  {
   "cell_type": "code",
   "execution_count": 100,
   "id": "d5c0a5df-fd76-46db-8bc8-ce8ed09762b9",
   "metadata": {},
   "outputs": [
    {
     "data": {
      "text/plain": [
       "10"
      ]
     },
     "execution_count": 100,
     "metadata": {},
     "output_type": "execute_result"
    }
   ],
   "source": [
    "sum_of_digits(235)"
   ]
  },
  {
   "cell_type": "markdown",
   "id": "2a9921ab-39fb-45fb-9187-cc80e67ce88d",
   "metadata": {},
   "source": [
    "**40. Implement a function to check if a given string is a valid palindrome considering case sensitivity.**"
   ]
  },
  {
   "cell_type": "code",
   "execution_count": 101,
   "id": "9b0a0c31-4403-4906-ad39-45115ef944d8",
   "metadata": {},
   "outputs": [],
   "source": [
    "def palindrome_str(string):\n",
    "    string=string.lower()\n",
    "    i=0\n",
    "    j=len(string)-1\n",
    "    while(i<j):\n",
    "        if(string[i]==string[j]):\n",
    "            i=i+1\n",
    "            j=j-1\n",
    "        else:\n",
    "            return False\n",
    "        \n",
    "    return True     "
   ]
  },
  {
   "cell_type": "code",
   "execution_count": 102,
   "id": "b8e6fa69-8bed-4890-a915-5a07ef60d01a",
   "metadata": {},
   "outputs": [
    {
     "data": {
      "text/plain": [
       "True"
      ]
     },
     "execution_count": 102,
     "metadata": {},
     "output_type": "execute_result"
    }
   ],
   "source": [
    "palindrome_str(\"Level\")"
   ]
  },
  {
   "cell_type": "markdown",
   "id": "f79c0017-efa6-49ab-8df7-267c9e23d6e9",
   "metadata": {},
   "source": [
    "**41. Write a Python program to find the smallest missing positive integer in a list.**"
   ]
  },
  {
   "cell_type": "code",
   "execution_count": 103,
   "id": "66753c9f-330d-443d-af9f-f0b41d4fc1c2",
   "metadata": {},
   "outputs": [],
   "source": [
    "def find_first_missing_positive(nums):\n",
    "    n = len(nums)\n",
    "\n",
    "    i = 0\n",
    "    while i < n:\n",
    "        if 0 < nums[i] <= n and nums[nums[i] - 1] != nums[i]:\n",
    "            nums[nums[i] - 1], nums[i] = nums[i], nums[nums[i] - 1]\n",
    "        else:\n",
    "            i += 1\n",
    "\n",
    "    for i in range(n):\n",
    "        if nums[i] != i + 1:\n",
    "            return i + 1\n",
    "\n",
    "    return n + 1\n"
   ]
  },
  {
   "cell_type": "code",
   "execution_count": 104,
   "id": "3866964f-89ae-41ea-9486-e55604fad487",
   "metadata": {},
   "outputs": [
    {
     "data": {
      "text/plain": [
       "1"
      ]
     },
     "execution_count": 104,
     "metadata": {},
     "output_type": "execute_result"
    }
   ],
   "source": [
    "find_first_missing_positive([7,8,9,11,12])"
   ]
  },
  {
   "cell_type": "markdown",
   "id": "a22f34b8-ccad-475f-b33c-b848ee62a7e1",
   "metadata": {},
   "source": [
    "**42. Implement a function to find the longest palindrome substring in a given string.**"
   ]
  },
  {
   "cell_type": "code",
   "execution_count": 105,
   "id": "1b8a0f01-71e2-449c-9adb-de213e0f215b",
   "metadata": {},
   "outputs": [],
   "source": [
    "def longest_palindromic_substring(s):\n",
    "    k=0\n",
    "    while(k<len(s)):\n",
    "        j=len(s)-1\n",
    "        while(k<j):\n",
    "            if(s[k]==s[j]):\n",
    "                return s[k:j+1]\n",
    "            else:\n",
    "                j=j-1\n",
    "        k=k+1"
   ]
  },
  {
   "cell_type": "code",
   "execution_count": 106,
   "id": "1d385318-e56b-41e6-9f47-5192c82770c0",
   "metadata": {},
   "outputs": [
    {
     "data": {
      "text/plain": [
       "'bab'"
      ]
     },
     "execution_count": 106,
     "metadata": {},
     "output_type": "execute_result"
    }
   ],
   "source": [
    "longest_palindromic_substring(\"babad\")"
   ]
  },
  {
   "cell_type": "code",
   "execution_count": 107,
   "id": "5ea62d14-dfd2-4570-a508-11590ab2bcaa",
   "metadata": {},
   "outputs": [
    {
     "data": {
      "text/plain": [
       "'bb'"
      ]
     },
     "execution_count": 107,
     "metadata": {},
     "output_type": "execute_result"
    }
   ],
   "source": [
    "longest_palindromic_substring(\"cbbd\")"
   ]
  },
  {
   "cell_type": "markdown",
   "id": "a704fdbf-89b8-4c08-8039-4cbd05dd9bf2",
   "metadata": {},
   "source": [
    "**43. Write a program to find the number of occurrences of a given element in a list.**"
   ]
  },
  {
   "cell_type": "code",
   "execution_count": 108,
   "id": "3f26e3db-27e3-4969-bdae-c869b2661999",
   "metadata": {},
   "outputs": [],
   "source": [
    "def occurences_of_element(lst,ele):\n",
    "    k=0\n",
    "    \n",
    "    for i in range(0,len(lst)):\n",
    "        if(lst[i]==ele):\n",
    "            k=k+1\n",
    "            \n",
    "    return k             "
   ]
  },
  {
   "cell_type": "code",
   "execution_count": 109,
   "id": "04ccf187-d78f-4d4d-9f4a-6302993c9056",
   "metadata": {},
   "outputs": [
    {
     "data": {
      "text/plain": [
       "2"
      ]
     },
     "execution_count": 109,
     "metadata": {},
     "output_type": "execute_result"
    }
   ],
   "source": [
    "occurences_of_element([1,2,3,1,3],3)"
   ]
  },
  {
   "cell_type": "markdown",
   "id": "ac6aa9ea-1bb9-430a-bbb6-268d326c5d6f",
   "metadata": {},
   "source": [
    "**44. Implement a function to check if a given number is a perfect number.**"
   ]
  },
  {
   "cell_type": "code",
   "execution_count": 110,
   "id": "304f2a74-c873-42e8-b22f-4dfd44c135f8",
   "metadata": {},
   "outputs": [],
   "source": [
    "def perfect_no(n):\n",
    "    sum_value=0\n",
    "    for i in range(1,n):\n",
    "        if(n%i==0):\n",
    "            sum_value=sum_value+i\n",
    "            \n",
    "    if(sum_value==n):\n",
    "        return True\n",
    "    else:\n",
    "        return False"
   ]
  },
  {
   "cell_type": "code",
   "execution_count": 111,
   "id": "0140e2a3-1a01-4ddc-aca4-74a0e8b148fc",
   "metadata": {},
   "outputs": [
    {
     "data": {
      "text/plain": [
       "True"
      ]
     },
     "execution_count": 111,
     "metadata": {},
     "output_type": "execute_result"
    }
   ],
   "source": [
    "perfect_no(6)"
   ]
  },
  {
   "cell_type": "code",
   "execution_count": 112,
   "id": "6687ff5b-9a49-4f16-8a25-b6bf2cb2bb43",
   "metadata": {},
   "outputs": [
    {
     "data": {
      "text/plain": [
       "True"
      ]
     },
     "execution_count": 112,
     "metadata": {},
     "output_type": "execute_result"
    }
   ],
   "source": [
    "perfect_no(28)"
   ]
  },
  {
   "cell_type": "markdown",
   "id": "b70e9b21-3d14-4f82-9f21-9f06ca16d728",
   "metadata": {},
   "source": [
    "**45. Write a Python program to remove all duplicates from a string.**"
   ]
  },
  {
   "cell_type": "code",
   "execution_count": 113,
   "id": "20361ed4-10dd-44aa-a5ab-ca24602f4404",
   "metadata": {},
   "outputs": [],
   "source": [
    "def remove_duplicates(s):\n",
    "    lst=[]\n",
    "    for i in s:\n",
    "        if i not in lst:\n",
    "            lst.append(i)\n",
    "            \n",
    "    return \"\".join(lst)         \n",
    "        "
   ]
  },
  {
   "cell_type": "code",
   "execution_count": 114,
   "id": "1184c7b6-1a50-4e5c-86df-c82195d8d894",
   "metadata": {
    "tags": []
   },
   "outputs": [
    {
     "data": {
      "text/plain": [
       "'geksfor'"
      ]
     },
     "execution_count": 114,
     "metadata": {},
     "output_type": "execute_result"
    }
   ],
   "source": [
    "remove_duplicates(\"geeksforgeeks\")"
   ]
  },
  {
   "cell_type": "markdown",
   "id": "d43fafb7-149c-480a-b9f0-a2af0ab0f309",
   "metadata": {},
   "source": [
    "**46. Implement a function to find the first missing positive**"
   ]
  },
  {
   "cell_type": "code",
   "execution_count": 115,
   "id": "225fb2f1-3e24-430f-8021-888b956d62ba",
   "metadata": {},
   "outputs": [],
   "source": [
    "def find_first_missing_positive(nums):\n",
    "    n = len(nums)\n",
    "\n",
    "    i = 0\n",
    "    while i < n:\n",
    "        if 0 < nums[i] <= n and nums[nums[i] - 1] != nums[i]:\n",
    "            nums[nums[i] - 1], nums[i] = nums[i], nums[nums[i] - 1]\n",
    "        else:\n",
    "            i += 1\n",
    "\n",
    "    for i in range(n):\n",
    "        if nums[i] != i + 1:\n",
    "            return i + 1\n",
    "\n",
    "    return n + 1\n"
   ]
  },
  {
   "cell_type": "code",
   "execution_count": 116,
   "id": "2b023f69-1ad2-4547-8ac4-3ed3c55498e4",
   "metadata": {},
   "outputs": [
    {
     "data": {
      "text/plain": [
       "1"
      ]
     },
     "execution_count": 116,
     "metadata": {},
     "output_type": "execute_result"
    }
   ],
   "source": [
    "find_first_missing_positive([7,8,9,11,12])"
   ]
  },
  {
   "cell_type": "code",
   "execution_count": 117,
   "id": "a56b47be-c495-43eb-8d1f-4b6aa1255508",
   "metadata": {},
   "outputs": [
    {
     "data": {
      "text/plain": [
       "3"
      ]
     },
     "execution_count": 117,
     "metadata": {},
     "output_type": "execute_result"
    }
   ],
   "source": [
    "find_first_missing_positive([1,2,0])"
   ]
  },
  {
   "cell_type": "markdown",
   "id": "3ab416a4-3ac3-4550-9cf5-cd5be64967cb",
   "metadata": {},
   "source": [
    "-----------------------------"
   ]
  },
  {
   "cell_type": "code",
   "execution_count": null,
   "id": "037d5a6a-e753-426d-b8cd-bde8cf5cc81c",
   "metadata": {},
   "outputs": [],
   "source": []
  }
 ],
 "metadata": {
  "kernelspec": {
   "display_name": "Python 3 (ipykernel)",
   "language": "python",
   "name": "python3"
  },
  "language_info": {
   "codemirror_mode": {
    "name": "ipython",
    "version": 3
   },
   "file_extension": ".py",
   "mimetype": "text/x-python",
   "name": "python",
   "nbconvert_exporter": "python",
   "pygments_lexer": "ipython3",
   "version": "3.10.8"
  }
 },
 "nbformat": 4,
 "nbformat_minor": 5
}
