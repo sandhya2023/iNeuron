{
  "nbformat": 4,
  "nbformat_minor": 0,
  "metadata": {
    "colab": {
      "provenance": []
    },
    "kernelspec": {
      "name": "python3",
      "display_name": "Python 3"
    },
    "language_info": {
      "name": "python"
    }
  },
  "cells": [
    {
      "cell_type": "markdown",
      "source": [
        "1. Write a Python program to convert kilometers to miles?"
      ],
      "metadata": {
        "id": "U4bdXcY0S4Ck"
      }
    },
    {
      "cell_type": "code",
      "execution_count": 2,
      "metadata": {
        "colab": {
          "base_uri": "https://localhost:8080/"
        },
        "id": "JNygdBl1Sxkg",
        "outputId": "ebc5a22e-79f0-4747-c83e-719c4b4a44c6"
      },
      "outputs": [
        {
          "output_type": "stream",
          "name": "stdout",
          "text": [
            "enter the length in kilometre: 2\n",
            "In miles the length is 1.242742 miles\n"
          ]
        }
      ],
      "source": [
        "km = float(input(\"enter the length in kilometre: \"))\n",
        "convert_miles = float(0.621371*km)\n",
        "print(f\"In miles the length is {convert_miles} miles\")"
      ]
    },
    {
      "cell_type": "markdown",
      "source": [
        "2. Write a Python program to convert Celsius to Fahrenheit?"
      ],
      "metadata": {
        "id": "pZq5svc2UPam"
      }
    },
    {
      "cell_type": "code",
      "source": [
        "C = float(input(\"Enter the temperature in celsius: \"))\n",
        "F = float((C*1.800)+32)\n",
        "print(f\"Temperature in Farhenite is {F}\")"
      ],
      "metadata": {
        "colab": {
          "base_uri": "https://localhost:8080/"
        },
        "id": "3zbbXRLwUTso",
        "outputId": "f2e73158-3e86-49ed-d357-44b7f684ef6b"
      },
      "execution_count": 3,
      "outputs": [
        {
          "output_type": "stream",
          "name": "stdout",
          "text": [
            "Enter the temperature in celsius: 30\n",
            "Temperature in Farhenite is 86.0\n"
          ]
        }
      ]
    },
    {
      "cell_type": "markdown",
      "source": [
        "3. Write a Python program to display calendar?"
      ],
      "metadata": {
        "id": "gdFwoubtVNvL"
      }
    },
    {
      "cell_type": "code",
      "source": [
        "import calendar\n",
        "year =int(input(\"Enter the year:\"))\n",
        "month = int(input(\"Enter the month:\"))\n",
        "print(calendar.month(year,month))"
      ],
      "metadata": {
        "colab": {
          "base_uri": "https://localhost:8080/"
        },
        "id": "DmA_gpjkViLB",
        "outputId": "020f49ad-e26c-43a4-8c1f-7253d9e07b6c"
      },
      "execution_count": 8,
      "outputs": [
        {
          "output_type": "stream",
          "name": "stdout",
          "text": [
            "Enter the year:2022\n",
            "Enter the month:10\n",
            "    October 2022\n",
            "Mo Tu We Th Fr Sa Su\n",
            "                1  2\n",
            " 3  4  5  6  7  8  9\n",
            "10 11 12 13 14 15 16\n",
            "17 18 19 20 21 22 23\n",
            "24 25 26 27 28 29 30\n",
            "31\n",
            "\n"
          ]
        }
      ]
    },
    {
      "cell_type": "markdown",
      "source": [
        "4. Write a Python program to solve quadratic equation?"
      ],
      "metadata": {
        "id": "kH5LlXeuW7_7"
      }
    },
    {
      "cell_type": "code",
      "source": [
        "import cmath\n",
        "equation =\" general formula for equation is ax*2+bx+c=0 \"\n",
        "a = int(input(\"enter the value of a: \"))\n",
        "b = int(input(\"enter the value of b: \"))\n",
        "c = int(input(\"enter the value of c: \"))\n",
        "d = int((b*2) - (4*a*c))\n",
        "sol1 = (-b-cmath.sqrt(d))/(2*a)\n",
        "sol2 = (-b+cmath.sqrt(d))/(2*a)\n",
        "print(f\"The solution of the equation is {sol1} and {sol2}\")\n",
        "\n"
      ],
      "metadata": {
        "colab": {
          "base_uri": "https://localhost:8080/"
        },
        "id": "vLouRuACW7cU",
        "outputId": "2cfaf360-2d10-4bd9-cfa8-424b417814b7"
      },
      "execution_count": 14,
      "outputs": [
        {
          "output_type": "stream",
          "name": "stdout",
          "text": [
            "The solution of the equation is (-2.5-1.8708286933869707j) and (-2.5+1.8708286933869707j)\n"
          ]
        }
      ]
    },
    {
      "cell_type": "markdown",
      "source": [
        "5. Write a Python program to swap two variables without temp variable?"
      ],
      "metadata": {
        "id": "BI2t4WGleLJj"
      }
    },
    {
      "cell_type": "code",
      "source": [
        "x = int(input(\"enter the value of x:\"))\n",
        "y = int(input(\"enter the value of y:\"))\n",
        "print(f\"The value of x is {x} and value of y is {y}\")\n",
        "x ,y = y, x\n",
        "print (f\"After swapping value of x  is {x} and value of y is {y}\")"
      ],
      "metadata": {
        "id": "wpUgiNpHekG-",
        "outputId": "2ceb2839-0300-4231-a3e9-d121c077fa60",
        "colab": {
          "base_uri": "https://localhost:8080/"
        }
      },
      "execution_count": 16,
      "outputs": [
        {
          "output_type": "stream",
          "name": "stdout",
          "text": [
            "enter the value of x:8\n",
            "enter the value of y:9\n",
            "The value of x is 8 and value of y is 9\n",
            "After swapping value of x  is 9 and value of y is 8\n"
          ]
        }
      ]
    }
  ]
}