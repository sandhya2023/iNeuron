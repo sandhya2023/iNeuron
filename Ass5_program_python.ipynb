{
  "cells": [
    {
      "cell_type": "markdown",
      "metadata": {
        "id": "view-in-github",
        "colab_type": "text"
      },
      "source": [
        "<a href=\"https://colab.research.google.com/github/sandhya2023/iNeuron/blob/main/Ass5_program_python.ipynb\" target=\"_parent\"><img src=\"https://colab.research.google.com/assets/colab-badge.svg\" alt=\"Open In Colab\"/></a>"
      ]
    },
    {
      "cell_type": "markdown",
      "id": "9e1733f2",
      "metadata": {
        "id": "9e1733f2"
      },
      "source": [
        "# Assignment 5 Solutions"
      ]
    },
    {
      "cell_type": "markdown",
      "id": "901748b2",
      "metadata": {
        "id": "901748b2"
      },
      "source": [
        "#### 1. Write a Python Program to find LCM ?"
      ]
    },
    {
      "cell_type": "code",
      "execution_count": 1,
      "id": "91140999",
      "metadata": {
        "colab": {
          "base_uri": "https://localhost:8080/"
        },
        "id": "91140999",
        "outputId": "bb694502-201f-4e0a-d62b-eae5f6dfb173"
      },
      "outputs": [
        {
          "output_type": "stream",
          "name": "stdout",
          "text": [
            "The LCM of 3,6 is 6\n",
            "The LCM of 5,2 is 10\n",
            "The LCM of 5,100 is 100\n"
          ]
        }
      ],
      "source": [
        "def findTheLcm(x_term,y_term):\n",
        "    if x_term > y_term:\n",
        "        greater = x_term\n",
        "    else:\n",
        "        greater = x_term\n",
        "    while True:\n",
        "        if((greater%x_term == 0) and (greater%y_term == 0)):\n",
        "            lcm = greater\n",
        "            break\n",
        "        else:\n",
        "            greater +=1\n",
        "    print(f'The LCM of {x_term},{y_term} is {lcm}')\n",
        "\n",
        "findTheLcm(3,6)\n",
        "findTheLcm(5,2)\n",
        "findTheLcm(5,100)"
      ]
    },
    {
      "cell_type": "markdown",
      "id": "5998fa74",
      "metadata": {
        "id": "5998fa74"
      },
      "source": [
        "#### 2. Write a Python Program to find HCF ?"
      ]
    },
    {
      "cell_type": "code",
      "execution_count": 2,
      "id": "352d08d9",
      "metadata": {
        "colab": {
          "base_uri": "https://localhost:8080/"
        },
        "id": "352d08d9",
        "outputId": "79d5fdc5-a822-473a-cfe5-11ae5f743b71"
      },
      "outputs": [
        {
          "output_type": "stream",
          "name": "stdout",
          "text": [
            "The HCF of 6,12 is 6\n",
            "The HCF of 2,3 is 1\n",
            "The HCF of 10,23 is 1\n"
          ]
        }
      ],
      "source": [
        "def findTheHcf(x_term,y_term):\n",
        "    if x_term>y_term:\n",
        "        smaller = y_term\n",
        "    else:\n",
        "        smaller = x_term\n",
        "    for ele in range(1,smaller+1):\n",
        "        if((x_term%ele == 0) and (y_term%ele == 0)):\n",
        "            hcf = ele\n",
        "    print(f'The HCF of {x_term},{y_term} is {hcf}')\n",
        "\n",
        "findTheHcf(6,12)\n",
        "findTheHcf(2,3)\n",
        "findTheHcf(10,23)"
      ]
    },
    {
      "cell_type": "markdown",
      "id": "f29f8214",
      "metadata": {
        "id": "f29f8214"
      },
      "source": [
        "#### 3. Write a Python Program to Convert Decimal to Binary, Octal and Hexadecimal ?"
      ]
    },
    {
      "cell_type": "code",
      "execution_count": null,
      "id": "53212645",
      "metadata": {
        "id": "53212645",
        "outputId": "30df7271-fe95-45aa-ae24-22d7e177d4e8"
      },
      "outputs": [
        {
          "name": "stdout",
          "output_type": "stream",
          "text": [
            "Enter a Number: 55252555\n",
            "Binary Number -> 0b11010010110001011001001011\n",
            "Octal Number -> 0o322613113\n",
            "Hexadecimal Number -> 0x34b164b\n"
          ]
        }
      ],
      "source": [
        "def DecimalToOther():\n",
        "    num = int(input('Enter a Number: '))\n",
        "    print(f'Binary Number -> {bin(num)}')\n",
        "    print(f'Octal Number -> {oct(num)}')    \n",
        "    print(f'Hexadecimal Number -> {hex(num)}')    \n",
        "\n",
        "DecimalToOther()"
      ]
    },
    {
      "cell_type": "markdown",
      "id": "1a4ed424",
      "metadata": {
        "id": "1a4ed424"
      },
      "source": [
        "#### 4. Write a Python Program to Find the ASCII value of  a Character ?"
      ]
    },
    {
      "cell_type": "code",
      "execution_count": null,
      "id": "8173265f",
      "metadata": {
        "id": "8173265f",
        "outputId": "af8caccf-6b3c-4ff4-9033-928355093d4f"
      },
      "outputs": [
        {
          "name": "stdout",
          "output_type": "stream",
          "text": [
            "Enter a Character: @\n",
            "Ascii Character of @ is 64\n"
          ]
        }
      ],
      "source": [
        "def charToAscii():\n",
        "    char = input('Enter a Character: ')\n",
        "    if len(char) > 1:\n",
        "        print('Please Enter a Single Character')\n",
        "    else:\n",
        "        print(f'Ascii Character of {char} is {ord(char)}')\n",
        "\n",
        "charToAscii()"
      ]
    },
    {
      "cell_type": "markdown",
      "id": "e9f467f1",
      "metadata": {
        "id": "e9f467f1"
      },
      "source": [
        "#### 5. Write a Python Program to Make a Simple Calculator with 4 Basic Mathematical operations ?"
      ]
    },
    {
      "cell_type": "code",
      "execution_count": null,
      "id": "846d7a21",
      "metadata": {
        "id": "846d7a21",
        "outputId": "741586d5-2e83-4d68-c4e5-a15523393d3b"
      },
      "outputs": [
        {
          "name": "stdout",
          "output_type": "stream",
          "text": [
            "Select a Arithmetic Operation:         \n",
            "1.Addition(+)        \n",
            "2.Division(-)        \n",
            "2.Multiplication(*)        \n",
            "4.Division(/)        \n",
            "3.Stop(0)\n",
            "\n",
            "Enter a arithmetic operation -> +\n",
            "\n",
            "Enter 1st Number: 10\n",
            "Enter 2nd Number: 20\n",
            "10+20=30\n",
            "\n",
            "Enter a arithmetic operation -> -\n",
            "\n",
            "Enter 1st Number: 10\n",
            "Enter 2nd Number: 20\n",
            "10-20=-10\n",
            "\n",
            "Enter a arithmetic operation -> *\n",
            "\n",
            "Enter 1st Number: 10\n",
            "Enter 2nd Number: 20\n",
            "10*20=200\n",
            "\n",
            "Enter a arithmetic operation -> /\n",
            "\n",
            "Enter 1st Number: 10\n",
            "Enter 2nd Number: 20\n",
            "10/20=0.5\n",
            "\n",
            "Enter a arithmetic operation -> 0\n",
            "Program Stopped successfully\n"
          ]
        }
      ],
      "source": [
        "import operator\n",
        "\n",
        "ops = { \"+\": operator.add, \"-\": operator.sub, \"*\":operator.mul, \"/\":operator.truediv } \n",
        "\n",
        "print('Select a Arithmetic Operation: \\\n",
        "        \\n1.Addition(+)\\\n",
        "        \\n2.Division(-)\\\n",
        "        \\n2.Multiplication(*)\\\n",
        "        \\n4.Division(/)\\\n",
        "        \\n3.Stop(0)\\n')\n",
        "   \n",
        "\n",
        "while True:\n",
        "    operator = input('Enter a arithmetic operation -> ')\n",
        "    if operator == '0':\n",
        "        print(\"Program Stopped successfully\")\n",
        "        break\n",
        "    elif operator not in ['+','-','*','/']:\n",
        "        print(\"Please enter a valid operator\")\n",
        "    else:\n",
        "        num_1 = int(input('\\nEnter 1st Number: '))\n",
        "        num_2 = int(input('Enter 2nd Number: '))\n",
        "        print(f'{num_1}{operator}{num_2}={ops[operator](num_1,num_2)}\\n')"
      ]
    }
  ],
  "metadata": {
    "kernelspec": {
      "display_name": "Python 3",
      "language": "python",
      "name": "python3"
    },
    "language_info": {
      "codemirror_mode": {
        "name": "ipython",
        "version": 3
      },
      "file_extension": ".py",
      "mimetype": "text/x-python",
      "name": "python",
      "nbconvert_exporter": "python",
      "pygments_lexer": "ipython3",
      "version": "3.8.8"
    },
    "colab": {
      "provenance": [],
      "include_colab_link": true
    }
  },
  "nbformat": 4,
  "nbformat_minor": 5
}