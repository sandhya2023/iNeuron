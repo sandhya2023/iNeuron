{
  "nbformat": 4,
  "nbformat_minor": 0,
  "metadata": {
    "colab": {
      "provenance": []
    },
    "kernelspec": {
      "name": "python3",
      "display_name": "Python 3"
    },
    "language_info": {
      "name": "python"
    }
  },
  "cells": [
    {
      "cell_type": "markdown",
      "source": [
        "1. In the below elements which of them are values or an expression? eg:- values can be\n",
        "integer or string and expressions will be mathematical operators."
      ],
      "metadata": {
        "id": "AXPqtJ_Qvaxq"
      }
    },
    {
      "cell_type": "code",
      "execution_count": null,
      "metadata": {
        "id": "fxkKPNjIvYo-"
      },
      "outputs": [],
      "source": [
        "* #Expression\n",
        "\"hello\" #Value\n",
        "-87.8 #Value\n",
        "-  #Expression\n",
        "/   #Expression\n",
        "+ #Expression\n",
        "6  #Value"
      ]
    },
    {
      "cell_type": "markdown",
      "source": [
        "2. What is the difference between string and variable?\n",
        "\n",
        "Ans: \n",
        "    \n",
        "    Variables are symbols that you can use to store data in a program and Strings are data, so we can use them to fill up a variable. "
      ],
      "metadata": {
        "id": "EaKIzVdDwTBN"
      }
    },
    {
      "cell_type": "markdown",
      "source": [
        "3. Describe three different data types.\n",
        "\n",
        "Ans: \n",
        "    \n",
        "    Integers – These are represented by int class. It contains positive or negative whole numbers,there is no limit to how long an integer value can be.Ex: 56,-89,-45\n",
        "    \n",
        "     Float – This value is represented by float class.It is specified by a decimal point. Ex: 5.98,70.98\n",
        "\n",
        "     Complex Numbers – Complex number is represented by complex class. It is specified as (real part) + (imaginary part)j. Ex: 6+5j,5-3j"
      ],
      "metadata": {
        "id": "AJ9H6CxG2yG-"
      }
    },
    {
      "cell_type": "markdown",
      "source": [
        "4. What is an expression made up of? What do all expressions do?\n",
        "\n",
        "Ans: \n",
        "    \n",
        "    An expression is a combination of operators and operands and it is used as interpreted to produce some other value."
      ],
      "metadata": {
        "id": "HMMd6YUR4Jni"
      }
    },
    {
      "cell_type": "markdown",
      "source": [
        "\n",
        "5.This assignment statements, like spam = 10. What is the difference between an\n",
        "expression and a statement?\n",
        "\n",
        "Ans:\n",
        "\n",
        "     An expression evaluates to a single value but a statement does not.\n"
      ],
      "metadata": {
        "id": "kFqUIiF18AZT"
      }
    },
    {
      "cell_type": "markdown",
      "source": [
        "6.After running the following code, what does the variable bacon contain?\n",
        "bacon = 22\n",
        "bacon + 1"
      ],
      "metadata": {
        "id": "kkN11YtO9Ojb"
      }
    },
    {
      "cell_type": "code",
      "source": [
        "bacon = 22\n",
        "bacon + 1\n",
        "print(bacon)  #here we have not assigned any variable to s"
      ],
      "metadata": {
        "colab": {
          "base_uri": "https://localhost:8080/"
        },
        "id": "63miRKq-9Ygb",
        "outputId": "03229db4-c5c3-4c91-91fd-bdd7b3e99666"
      },
      "execution_count": null,
      "outputs": [
        {
          "output_type": "stream",
          "name": "stdout",
          "text": [
            "22\n"
          ]
        }
      ]
    },
    {
      "cell_type": "markdown",
      "source": [
        "7. What should the values of the following two terms be?\n",
        "\n",
        " &#39;spam&#39; + &#39;spamspam&#39;\n",
        "\n",
        " &#39;spam&#39; * 3"
      ],
      "metadata": {
        "id": "RJ8FoHrvFwPb"
      }
    },
    {
      "cell_type": "code",
      "source": [
        "'spam' + 'spamspam'"
      ],
      "metadata": {
        "colab": {
          "base_uri": "https://localhost:8080/",
          "height": 36
        },
        "id": "wjSkHrENF_9W",
        "outputId": "f1acfdd5-a0f7-4e40-8ca1-6f5ec5412af0"
      },
      "execution_count": null,
      "outputs": [
        {
          "output_type": "execute_result",
          "data": {
            "text/plain": [
              "'spamspamspam'"
            ],
            "application/vnd.google.colaboratory.intrinsic+json": {
              "type": "string"
            }
          },
          "metadata": {},
          "execution_count": 1
        }
      ]
    },
    {
      "cell_type": "code",
      "source": [
        "'spam' * 3"
      ],
      "metadata": {
        "colab": {
          "base_uri": "https://localhost:8080/",
          "height": 36
        },
        "id": "p21FET8YF37w",
        "outputId": "20aa67bd-5363-4ee5-c907-26c4190d9309"
      },
      "execution_count": null,
      "outputs": [
        {
          "output_type": "execute_result",
          "data": {
            "text/plain": [
              "'spamspamspam'"
            ],
            "application/vnd.google.colaboratory.intrinsic+json": {
              "type": "string"
            }
          },
          "metadata": {},
          "execution_count": 2
        }
      ]
    },
    {
      "cell_type": "markdown",
      "source": [
        "8. Why is eggs a valid variable name while 100 is invalid?\n",
        "\n",
        "Ans: Because variable names cannot begin with a number."
      ],
      "metadata": {
        "id": "CCP6tTYVGX_j"
      }
    },
    {
      "cell_type": "markdown",
      "source": [
        "9. What three functions can be used to get the integer, floating-point number, or string\n",
        "version of a value?\n",
        "\n",
        "Ans:\n",
        "The int() , float() , and str( ) functions will evaluate to the integer, floating-point number, and string versions of the value passed to them."
      ],
      "metadata": {
        "id": "U8faGDvrGpmo"
      }
    },
    {
      "cell_type": "markdown",
      "source": [
        "10. Why does this expression cause an error? How can you fix it?\n",
        "\n",
        "&#39;I have eaten &#39; + 99 + &#39; burritos.&#39;\n",
        "\n",
        "Ans: string can not be added to integer this is why its showing error."
      ],
      "metadata": {
        "id": "hK-CXoHCHRwL"
      }
    },
    {
      "cell_type": "code",
      "source": [
        "'I have eaten ' + \"99\" + ' burritos.'"
      ],
      "metadata": {
        "colab": {
          "base_uri": "https://localhost:8080/",
          "height": 36
        },
        "id": "bcv1m1iaHuTl",
        "outputId": "fa7e1858-a3d0-4c94-dfcb-7ee0453f4f54"
      },
      "execution_count": null,
      "outputs": [
        {
          "output_type": "execute_result",
          "data": {
            "text/plain": [
              "'I have eaten 99 burritos.'"
            ],
            "application/vnd.google.colaboratory.intrinsic+json": {
              "type": "string"
            }
          },
          "metadata": {},
          "execution_count": 4
        }
      ]
    }
  ]
}